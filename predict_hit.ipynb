{
 "cells": [
  {
   "cell_type": "markdown",
   "id": "e8fdf11e",
   "metadata": {},
   "source": [
    "# Can we predict if a given pitch will result in a hit?"
   ]
  },
  {
   "cell_type": "code",
   "execution_count": 1,
   "id": "b7e6f5df",
   "metadata": {
    "scrolled": true
   },
   "outputs": [],
   "source": [
    "import pandas as pd\n",
    "import numpy as np\n",
    "from sklearn.model_selection import train_test_split\n",
    "import matplotlib.pyplot as plt\n",
    "from pybaseball import statcast #https://github.com/jldbc/pybaseball\n",
    "from pybaseball import  playerid_lookup\n",
    "from pybaseball import  statcast_batter"
   ]
  },
  {
   "cell_type": "markdown",
   "id": "7ef6ca57",
   "metadata": {},
   "source": [
    "### Inspiration:\n",
    "1. https://github.com/jwilsonds/swing_probability_model/blob/master/votto%20swing%20probability.ipynb "
   ]
  },
  {
   "cell_type": "code",
   "execution_count": 2,
   "id": "894495ca",
   "metadata": {},
   "outputs": [
    {
     "name": "stdout",
     "output_type": "stream",
     "text": [
      "Gathering player lookup table. This may take a moment.\n"
     ]
    },
    {
     "data": {
      "text/html": [
       "<div>\n",
       "<style scoped>\n",
       "    .dataframe tbody tr th:only-of-type {\n",
       "        vertical-align: middle;\n",
       "    }\n",
       "\n",
       "    .dataframe tbody tr th {\n",
       "        vertical-align: top;\n",
       "    }\n",
       "\n",
       "    .dataframe thead th {\n",
       "        text-align: right;\n",
       "    }\n",
       "</style>\n",
       "<table border=\"1\" class=\"dataframe\">\n",
       "  <thead>\n",
       "    <tr style=\"text-align: right;\">\n",
       "      <th></th>\n",
       "      <th>name_last</th>\n",
       "      <th>name_first</th>\n",
       "      <th>key_mlbam</th>\n",
       "      <th>key_retro</th>\n",
       "      <th>key_bbref</th>\n",
       "      <th>key_fangraphs</th>\n",
       "      <th>mlb_played_first</th>\n",
       "      <th>mlb_played_last</th>\n",
       "    </tr>\n",
       "  </thead>\n",
       "  <tbody>\n",
       "    <tr>\n",
       "      <th>0</th>\n",
       "      <td>soto</td>\n",
       "      <td>juan</td>\n",
       "      <td>665742</td>\n",
       "      <td>sotoj001</td>\n",
       "      <td>sotoju01</td>\n",
       "      <td>20123</td>\n",
       "      <td>2018.0</td>\n",
       "      <td>2024.0</td>\n",
       "    </tr>\n",
       "  </tbody>\n",
       "</table>\n",
       "</div>"
      ],
      "text/plain": [
       "  name_last name_first  key_mlbam key_retro key_bbref  key_fangraphs  \\\n",
       "0      soto       juan     665742  sotoj001  sotoju01          20123   \n",
       "\n",
       "   mlb_played_first  mlb_played_last  \n",
       "0            2018.0           2024.0  "
      ]
     },
     "execution_count": 2,
     "metadata": {},
     "output_type": "execute_result"
    }
   ],
   "source": [
    "#Lookup for a player using their name. \n",
    "#In this case, it's Juan Soto\n",
    "#Useful to find their id which is found in key_mlbam\n",
    "playerid_lookup('soto', 'juan')"
   ]
  },
  {
   "cell_type": "markdown",
   "id": "9f837a16",
   "metadata": {},
   "source": [
    "### Get 2 Years of Juan Soto's Batting Data"
   ]
  },
  {
   "cell_type": "code",
   "execution_count": 50,
   "id": "8db58c32",
   "metadata": {},
   "outputs": [
    {
     "name": "stdout",
     "output_type": "stream",
     "text": [
      "Gathering Player Data\n"
     ]
    },
    {
     "data": {
      "text/html": [
       "<div>\n",
       "<style scoped>\n",
       "    .dataframe tbody tr th:only-of-type {\n",
       "        vertical-align: middle;\n",
       "    }\n",
       "\n",
       "    .dataframe tbody tr th {\n",
       "        vertical-align: top;\n",
       "    }\n",
       "\n",
       "    .dataframe thead th {\n",
       "        text-align: right;\n",
       "    }\n",
       "</style>\n",
       "<table border=\"1\" class=\"dataframe\">\n",
       "  <thead>\n",
       "    <tr style=\"text-align: right;\">\n",
       "      <th></th>\n",
       "      <th>pitch_type</th>\n",
       "      <th>game_date</th>\n",
       "      <th>release_speed</th>\n",
       "      <th>release_pos_x</th>\n",
       "      <th>release_pos_z</th>\n",
       "      <th>player_name</th>\n",
       "      <th>batter</th>\n",
       "      <th>pitcher</th>\n",
       "      <th>events</th>\n",
       "      <th>description</th>\n",
       "      <th>...</th>\n",
       "      <th>fld_score</th>\n",
       "      <th>post_away_score</th>\n",
       "      <th>post_home_score</th>\n",
       "      <th>post_bat_score</th>\n",
       "      <th>post_fld_score</th>\n",
       "      <th>if_fielding_alignment</th>\n",
       "      <th>of_fielding_alignment</th>\n",
       "      <th>spin_axis</th>\n",
       "      <th>delta_home_win_exp</th>\n",
       "      <th>delta_run_exp</th>\n",
       "    </tr>\n",
       "  </thead>\n",
       "  <tbody>\n",
       "    <tr>\n",
       "      <th>0</th>\n",
       "      <td>CU</td>\n",
       "      <td>2024-04-21</td>\n",
       "      <td>76.7</td>\n",
       "      <td>-0.78</td>\n",
       "      <td>6.51</td>\n",
       "      <td>Soto, Juan</td>\n",
       "      <td>665742</td>\n",
       "      <td>650644</td>\n",
       "      <td>field_out</td>\n",
       "      <td>hit_into_play</td>\n",
       "      <td>...</td>\n",
       "      <td>1</td>\n",
       "      <td>1</td>\n",
       "      <td>1</td>\n",
       "      <td>1</td>\n",
       "      <td>1</td>\n",
       "      <td>Infield shade</td>\n",
       "      <td>Standard</td>\n",
       "      <td>43.0</td>\n",
       "      <td>-0.029</td>\n",
       "      <td>-0.397</td>\n",
       "    </tr>\n",
       "    <tr>\n",
       "      <th>1</th>\n",
       "      <td>SI</td>\n",
       "      <td>2024-04-21</td>\n",
       "      <td>91.1</td>\n",
       "      <td>-1.13</td>\n",
       "      <td>6.24</td>\n",
       "      <td>Soto, Juan</td>\n",
       "      <td>665742</td>\n",
       "      <td>650644</td>\n",
       "      <td>NaN</td>\n",
       "      <td>ball</td>\n",
       "      <td>...</td>\n",
       "      <td>1</td>\n",
       "      <td>1</td>\n",
       "      <td>1</td>\n",
       "      <td>1</td>\n",
       "      <td>1</td>\n",
       "      <td>Infield shade</td>\n",
       "      <td>Standard</td>\n",
       "      <td>209.0</td>\n",
       "      <td>0.000</td>\n",
       "      <td>0.123</td>\n",
       "    </tr>\n",
       "    <tr>\n",
       "      <th>2</th>\n",
       "      <td>SI</td>\n",
       "      <td>2024-04-21</td>\n",
       "      <td>92.2</td>\n",
       "      <td>-1.14</td>\n",
       "      <td>6.23</td>\n",
       "      <td>Soto, Juan</td>\n",
       "      <td>665742</td>\n",
       "      <td>650644</td>\n",
       "      <td>NaN</td>\n",
       "      <td>called_strike</td>\n",
       "      <td>...</td>\n",
       "      <td>1</td>\n",
       "      <td>1</td>\n",
       "      <td>1</td>\n",
       "      <td>1</td>\n",
       "      <td>1</td>\n",
       "      <td>Infield shade</td>\n",
       "      <td>Standard</td>\n",
       "      <td>210.0</td>\n",
       "      <td>0.000</td>\n",
       "      <td>-0.064</td>\n",
       "    </tr>\n",
       "    <tr>\n",
       "      <th>3</th>\n",
       "      <td>FF</td>\n",
       "      <td>2024-04-21</td>\n",
       "      <td>91.2</td>\n",
       "      <td>-0.93</td>\n",
       "      <td>6.45</td>\n",
       "      <td>Soto, Juan</td>\n",
       "      <td>665742</td>\n",
       "      <td>650644</td>\n",
       "      <td>NaN</td>\n",
       "      <td>ball</td>\n",
       "      <td>...</td>\n",
       "      <td>1</td>\n",
       "      <td>1</td>\n",
       "      <td>1</td>\n",
       "      <td>1</td>\n",
       "      <td>1</td>\n",
       "      <td>Infield shade</td>\n",
       "      <td>Standard</td>\n",
       "      <td>206.0</td>\n",
       "      <td>0.000</td>\n",
       "      <td>0.072</td>\n",
       "    </tr>\n",
       "    <tr>\n",
       "      <th>4</th>\n",
       "      <td>FS</td>\n",
       "      <td>2024-04-21</td>\n",
       "      <td>84.7</td>\n",
       "      <td>-1.18</td>\n",
       "      <td>6.23</td>\n",
       "      <td>Soto, Juan</td>\n",
       "      <td>665742</td>\n",
       "      <td>650644</td>\n",
       "      <td>NaN</td>\n",
       "      <td>ball</td>\n",
       "      <td>...</td>\n",
       "      <td>1</td>\n",
       "      <td>1</td>\n",
       "      <td>1</td>\n",
       "      <td>1</td>\n",
       "      <td>1</td>\n",
       "      <td>Infield shade</td>\n",
       "      <td>Standard</td>\n",
       "      <td>232.0</td>\n",
       "      <td>0.000</td>\n",
       "      <td>0.038</td>\n",
       "    </tr>\n",
       "    <tr>\n",
       "      <th>...</th>\n",
       "      <td>...</td>\n",
       "      <td>...</td>\n",
       "      <td>...</td>\n",
       "      <td>...</td>\n",
       "      <td>...</td>\n",
       "      <td>...</td>\n",
       "      <td>...</td>\n",
       "      <td>...</td>\n",
       "      <td>...</td>\n",
       "      <td>...</td>\n",
       "      <td>...</td>\n",
       "      <td>...</td>\n",
       "      <td>...</td>\n",
       "      <td>...</td>\n",
       "      <td>...</td>\n",
       "      <td>...</td>\n",
       "      <td>...</td>\n",
       "      <td>...</td>\n",
       "      <td>...</td>\n",
       "      <td>...</td>\n",
       "      <td>...</td>\n",
       "    </tr>\n",
       "    <tr>\n",
       "      <th>6261</th>\n",
       "      <td>SI</td>\n",
       "      <td>2022-04-21</td>\n",
       "      <td>91.2</td>\n",
       "      <td>-1.91</td>\n",
       "      <td>5.42</td>\n",
       "      <td>Soto, Juan</td>\n",
       "      <td>665742</td>\n",
       "      <td>605200</td>\n",
       "      <td>NaN</td>\n",
       "      <td>ball</td>\n",
       "      <td>...</td>\n",
       "      <td>1</td>\n",
       "      <td>1</td>\n",
       "      <td>0</td>\n",
       "      <td>0</td>\n",
       "      <td>1</td>\n",
       "      <td>Infield shift</td>\n",
       "      <td>Standard</td>\n",
       "      <td>225.0</td>\n",
       "      <td>0.000</td>\n",
       "      <td>0.023</td>\n",
       "    </tr>\n",
       "    <tr>\n",
       "      <th>6262</th>\n",
       "      <td>SI</td>\n",
       "      <td>2022-04-21</td>\n",
       "      <td>91.1</td>\n",
       "      <td>-1.89</td>\n",
       "      <td>5.47</td>\n",
       "      <td>Soto, Juan</td>\n",
       "      <td>665742</td>\n",
       "      <td>605200</td>\n",
       "      <td>NaN</td>\n",
       "      <td>foul</td>\n",
       "      <td>...</td>\n",
       "      <td>1</td>\n",
       "      <td>1</td>\n",
       "      <td>0</td>\n",
       "      <td>0</td>\n",
       "      <td>1</td>\n",
       "      <td>Infield shift</td>\n",
       "      <td>Standard</td>\n",
       "      <td>231.0</td>\n",
       "      <td>0.000</td>\n",
       "      <td>-0.036</td>\n",
       "    </tr>\n",
       "    <tr>\n",
       "      <th>6263</th>\n",
       "      <td>FC</td>\n",
       "      <td>2022-04-21</td>\n",
       "      <td>88.4</td>\n",
       "      <td>-1.94</td>\n",
       "      <td>5.49</td>\n",
       "      <td>Soto, Juan</td>\n",
       "      <td>665742</td>\n",
       "      <td>605200</td>\n",
       "      <td>NaN</td>\n",
       "      <td>ball</td>\n",
       "      <td>...</td>\n",
       "      <td>1</td>\n",
       "      <td>1</td>\n",
       "      <td>0</td>\n",
       "      <td>0</td>\n",
       "      <td>1</td>\n",
       "      <td>Infield shift</td>\n",
       "      <td>Standard</td>\n",
       "      <td>215.0</td>\n",
       "      <td>0.000</td>\n",
       "      <td>0.016</td>\n",
       "    </tr>\n",
       "    <tr>\n",
       "      <th>6264</th>\n",
       "      <td>SI</td>\n",
       "      <td>2022-04-21</td>\n",
       "      <td>90.1</td>\n",
       "      <td>-1.94</td>\n",
       "      <td>5.44</td>\n",
       "      <td>Soto, Juan</td>\n",
       "      <td>665742</td>\n",
       "      <td>605200</td>\n",
       "      <td>NaN</td>\n",
       "      <td>called_strike</td>\n",
       "      <td>...</td>\n",
       "      <td>1</td>\n",
       "      <td>1</td>\n",
       "      <td>0</td>\n",
       "      <td>0</td>\n",
       "      <td>1</td>\n",
       "      <td>Infield shift</td>\n",
       "      <td>Standard</td>\n",
       "      <td>225.0</td>\n",
       "      <td>0.000</td>\n",
       "      <td>-0.024</td>\n",
       "    </tr>\n",
       "    <tr>\n",
       "      <th>6265</th>\n",
       "      <td>SI</td>\n",
       "      <td>2022-04-21</td>\n",
       "      <td>90.2</td>\n",
       "      <td>3.35</td>\n",
       "      <td>5.43</td>\n",
       "      <td>Soto, Juan</td>\n",
       "      <td>665742</td>\n",
       "      <td>573009</td>\n",
       "      <td>field_out</td>\n",
       "      <td>hit_into_play</td>\n",
       "      <td>...</td>\n",
       "      <td>4</td>\n",
       "      <td>4</td>\n",
       "      <td>2</td>\n",
       "      <td>2</td>\n",
       "      <td>4</td>\n",
       "      <td>Infield shift</td>\n",
       "      <td>Standard</td>\n",
       "      <td>113.0</td>\n",
       "      <td>-0.035</td>\n",
       "      <td>-0.221</td>\n",
       "    </tr>\n",
       "  </tbody>\n",
       "</table>\n",
       "<p>6266 rows × 92 columns</p>\n",
       "</div>"
      ],
      "text/plain": [
       "     pitch_type   game_date  release_speed  release_pos_x  release_pos_z  \\\n",
       "0            CU  2024-04-21           76.7          -0.78           6.51   \n",
       "1            SI  2024-04-21           91.1          -1.13           6.24   \n",
       "2            SI  2024-04-21           92.2          -1.14           6.23   \n",
       "3            FF  2024-04-21           91.2          -0.93           6.45   \n",
       "4            FS  2024-04-21           84.7          -1.18           6.23   \n",
       "...         ...         ...            ...            ...            ...   \n",
       "6261         SI  2022-04-21           91.2          -1.91           5.42   \n",
       "6262         SI  2022-04-21           91.1          -1.89           5.47   \n",
       "6263         FC  2022-04-21           88.4          -1.94           5.49   \n",
       "6264         SI  2022-04-21           90.1          -1.94           5.44   \n",
       "6265         SI  2022-04-21           90.2           3.35           5.43   \n",
       "\n",
       "     player_name  batter  pitcher     events    description  ...  fld_score  \\\n",
       "0     Soto, Juan  665742   650644  field_out  hit_into_play  ...          1   \n",
       "1     Soto, Juan  665742   650644        NaN           ball  ...          1   \n",
       "2     Soto, Juan  665742   650644        NaN  called_strike  ...          1   \n",
       "3     Soto, Juan  665742   650644        NaN           ball  ...          1   \n",
       "4     Soto, Juan  665742   650644        NaN           ball  ...          1   \n",
       "...          ...     ...      ...        ...            ...  ...        ...   \n",
       "6261  Soto, Juan  665742   605200        NaN           ball  ...          1   \n",
       "6262  Soto, Juan  665742   605200        NaN           foul  ...          1   \n",
       "6263  Soto, Juan  665742   605200        NaN           ball  ...          1   \n",
       "6264  Soto, Juan  665742   605200        NaN  called_strike  ...          1   \n",
       "6265  Soto, Juan  665742   573009  field_out  hit_into_play  ...          4   \n",
       "\n",
       "      post_away_score  post_home_score  post_bat_score  post_fld_score  \\\n",
       "0                   1                1               1               1   \n",
       "1                   1                1               1               1   \n",
       "2                   1                1               1               1   \n",
       "3                   1                1               1               1   \n",
       "4                   1                1               1               1   \n",
       "...               ...              ...             ...             ...   \n",
       "6261                1                0               0               1   \n",
       "6262                1                0               0               1   \n",
       "6263                1                0               0               1   \n",
       "6264                1                0               0               1   \n",
       "6265                4                2               2               4   \n",
       "\n",
       "     if_fielding_alignment of_fielding_alignment spin_axis delta_home_win_exp  \\\n",
       "0            Infield shade              Standard      43.0             -0.029   \n",
       "1            Infield shade              Standard     209.0              0.000   \n",
       "2            Infield shade              Standard     210.0              0.000   \n",
       "3            Infield shade              Standard     206.0              0.000   \n",
       "4            Infield shade              Standard     232.0              0.000   \n",
       "...                    ...                   ...       ...                ...   \n",
       "6261         Infield shift              Standard     225.0              0.000   \n",
       "6262         Infield shift              Standard     231.0              0.000   \n",
       "6263         Infield shift              Standard     215.0              0.000   \n",
       "6264         Infield shift              Standard     225.0              0.000   \n",
       "6265         Infield shift              Standard     113.0             -0.035   \n",
       "\n",
       "     delta_run_exp  \n",
       "0           -0.397  \n",
       "1            0.123  \n",
       "2           -0.064  \n",
       "3            0.072  \n",
       "4            0.038  \n",
       "...            ...  \n",
       "6261         0.023  \n",
       "6262        -0.036  \n",
       "6263         0.016  \n",
       "6264        -0.024  \n",
       "6265        -0.221  \n",
       "\n",
       "[6266 rows x 92 columns]"
      ]
     },
     "execution_count": 50,
     "metadata": {},
     "output_type": "execute_result"
    }
   ],
   "source": [
    "#Juan Soto's id is 665742\n",
    "#Find juan soto's stats from '2023-04-21' to '2024-04-21'\n",
    "soto_stats = statcast_batter('2022-04-21', '2024-04-21', 665742)\n",
    "soto_stats"
   ]
  },
  {
   "cell_type": "markdown",
   "id": "621ebec9",
   "metadata": {},
   "source": [
    "Useful site to understand what the columns mean: https://baseballsavant.mlb.com/csv-docs"
   ]
  },
  {
   "cell_type": "markdown",
   "id": "46ed072b",
   "metadata": {},
   "source": [
    "#### Assign prediction categories to each row: hit, ball, strike, unsuccessful hit\n",
    "\n",
    "Ignore foul for now. Might not be a good idea because this gets rid of data."
   ]
  },
  {
   "cell_type": "code",
   "execution_count": 66,
   "id": "49d84b3e",
   "metadata": {},
   "outputs": [],
   "source": [
    "def hit_or_not(description, event):\n",
    "    if description == 'hit_into_play' and event in ['single','double','triple','home_run']: #successful hit\n",
    "        return 'hit'\n",
    "    elif description == 'ball': #ball\n",
    "        return 'ball'\n",
    "    elif description in ['called_strike', 'swinging_strike', 'swinging_strike_blocked']: #strike\n",
    "        return 'strike'\n",
    "    elif description == 'hit_into_play' and event in ['field_out','grounded_into_double_play','double_play']: #unsuccessful hit\n",
    "        return 'unsuccessful_hit'"
   ]
  },
  {
   "cell_type": "code",
   "execution_count": 263,
   "id": "70baf6f8",
   "metadata": {},
   "outputs": [],
   "source": [
    "#creates a new column that describes a row as hit, ball, strike, and unsuccessful_hit\n",
    "soto_stats['result'] = soto_stats[['description', 'events']]\\\n",
    ".apply(lambda x: hit_or_not(x['description'], x['events']), axis = 1)"
   ]
  },
  {
   "cell_type": "code",
   "execution_count": 264,
   "id": "608089ba",
   "metadata": {},
   "outputs": [
    {
     "data": {
      "text/plain": [
       "0    unsuccessful_hit\n",
       "1                ball\n",
       "2              strike\n",
       "3                ball\n",
       "4                ball\n",
       "Name: result, dtype: object"
      ]
     },
     "execution_count": 264,
     "metadata": {},
     "output_type": "execute_result"
    }
   ],
   "source": [
    "soto_stats['result'].head()"
   ]
  },
  {
   "cell_type": "markdown",
   "id": "fba7f6e5",
   "metadata": {},
   "source": [
    "### By itself, speed is not a good predictor of hit likelihood"
   ]
  },
  {
   "cell_type": "code",
   "execution_count": 262,
   "id": "8e948aae",
   "metadata": {},
   "outputs": [
    {
     "name": "stderr",
     "output_type": "stream",
     "text": [
      "/var/folders/21/3pfj48b93_dfj5qvpfdk7v0h0000gn/T/ipykernel_78359/3988163411.py:1: FutureWarning: The default value of numeric_only in DataFrameGroupBy.mean is deprecated. In a future version, numeric_only will default to False. Either specify numeric_only or select only columns which should be valid for the function.\n",
      "  plot1 = soto_stats.groupby('result').mean()[['release_speed', 'release_spin_rate']]\n"
     ]
    }
   ],
   "source": [
    "plot1 = soto_stats.groupby('result').mean()[['release_speed', 'release_spin_rate']]"
   ]
  },
  {
   "cell_type": "code",
   "execution_count": 87,
   "id": "e52841be",
   "metadata": {},
   "outputs": [
    {
     "data": {
      "image/png": "[encoded data removed]",
      "text/plain": [
       "<Figure size 640x480 with 1 Axes>"
      ]
     },
     "metadata": {},
     "output_type": "display_data"
    }
   ],
   "source": [
    "result = ['ball', 'hit', 'strike', 'unsuccessful_hit']\n",
    "speeds = plot1['release_speed']\n",
    "\n",
    "fig, ax = plt.subplots()\n",
    "\n",
    "bar_labels = ['ball', 'hit', 'strike', 'unsuccessful_hit']\n",
    "bar_colors = ['tab:blue', 'tab:green', 'tab:red', 'tab:orange']\n",
    "\n",
    "\n",
    "ax.bar(result, speeds, label=bar_labels, color=bar_colors)\n",
    "\n",
    "ax.set_xlabel('Result of Pitch')\n",
    "ax.set_ylabel('Average Speed of Pitches')\n",
    "ax.set_title('Velocity alone is not a good indicator of hit likelihood.')\n",
    "ax.legend(title='Pitch Result')\n",
    "\n",
    "plt.show()"
   ]
  },
  {
   "cell_type": "markdown",
   "id": "2fc63e52",
   "metadata": {},
   "source": [
    "### By itself, spin rate is not a good predictor of hit likelihood."
   ]
  },
  {
   "cell_type": "code",
   "execution_count": 89,
   "id": "e296ab10",
   "metadata": {},
   "outputs": [
    {
     "data": {
      "image/png": "[encoded data removed]",
      "text/plain": [
       "<Figure size 640x480 with 1 Axes>"
      ]
     },
     "metadata": {},
     "output_type": "display_data"
    }
   ],
   "source": [
    "result = ['ball', 'hit', 'strike', 'unsuccessful_hit']\n",
    "speeds = plot1['release_spin_rate']\n",
    "\n",
    "fig, ax = plt.subplots()\n",
    "\n",
    "bar_labels = ['ball', 'hit', 'strike', 'unsuccessful_hit']\n",
    "bar_colors = ['tab:blue', 'tab:green', 'tab:red', 'tab:orange']\n",
    "\n",
    "\n",
    "ax.bar(result, speeds, label=bar_labels, color=bar_colors)\n",
    "\n",
    "ax.set_xlabel('Result of Pitch')\n",
    "ax.set_ylabel('Average Spin Rate of Pitches')\n",
    "ax.set_title('Spin Rate alone is not a good indicator of hit likelihood.')\n",
    "ax.legend(title='Pitch Result')\n",
    "\n",
    "plt.show()"
   ]
  },
  {
   "cell_type": "markdown",
   "id": "45852b5e",
   "metadata": {},
   "source": [
    "### Even after grouping by pitch type, velocity does not reliably tell us if a pitch will result in a hit or not."
   ]
  },
  {
   "cell_type": "code",
   "execution_count": 232,
   "id": "fd027ca4",
   "metadata": {
    "scrolled": true
   },
   "outputs": [
    {
     "name": "stderr",
     "output_type": "stream",
     "text": [
      "/var/folders/21/3pfj48b93_dfj5qvpfdk7v0h0000gn/T/ipykernel_78359/2213522357.py:1: FutureWarning: The default value of numeric_only in DataFrameGroupBy.mean is deprecated. In a future version, numeric_only will default to False. Either specify numeric_only or select only columns which should be valid for the function.\n",
      "  plot2 = soto_stats.groupby(['pitch_type', 'result']).mean()[['release_speed', 'release_spin_rate']].reset_index()\n"
     ]
    }
   ],
   "source": [
    "plot2 = soto_stats.groupby(['pitch_type', 'result']).mean()[['release_speed', 'release_spin_rate']].reset_index()\n",
    "\n",
    "smallest_subset = list(set(plot2[plot2['result'] == 'ball']['pitch_type']) & set(plot2[plot2['result'] == 'hit']['pitch_type'])\\\n",
    "& set(plot2[plot2['result'] == 'strike']['pitch_type']) & set(plot2[plot2['result'] == 'unsuccessful_hit']['pitch_type']))\n",
    "\n",
    "plot2 = plot2[plot2['pitch_type'].isin(smallest_subset)] #some pitches do not have a single hit on record so i'm removing those"
   ]
  },
  {
   "cell_type": "code",
   "execution_count": 265,
   "id": "a5a558a7",
   "metadata": {},
   "outputs": [
    {
     "data": {
      "image/png": "[encoded data removed]",
      "text/plain": [
       "<Figure size 640x480 with 1 Axes>"
      ]
     },
     "metadata": {},
     "output_type": "display_data"
    }
   ],
   "source": [
    "pitch_types = plot2['pitch_type'].unique()\n",
    "pitch_speeds = {\n",
    "    'hit': list(plot2[plot2['result'] == 'hit']['release_speed']),\n",
    "    'ball': list(plot2[plot2['result'] == 'ball']['release_speed']),\n",
    "    'unsuccessful_hit': list(plot2[plot2['result'] == 'unsuccessful_hit']['release_speed']),\n",
    "    'strike': list(plot2[plot2['result'] == 'strike']['release_speed']),\n",
    "    \n",
    "}\n",
    "\n",
    "x = np.arange(len(pitch_types))  # the label locations\n",
    "width = 0.15  # the width of the bars\n",
    "multiplier = 0\n",
    "\n",
    "fig, ax = plt.subplots(layout='constrained')\n",
    "\n",
    "for attribute, measurement in pitch_speeds.items():\n",
    "    offset = width * multiplier\n",
    "    rects = ax.bar(x + offset, measurement, width, label=attribute)\n",
    "    multiplier += 1\n",
    "\n",
    "ax.set_xlabel('Pitch Type')\n",
    "ax.set_ylabel('Pitch Velocity')\n",
    "ax.set_title('Velocity is not a good predictor of hit likelihood even when grouped by pitch type')\n",
    "ax.set_xticks(x + width, pitch_types)\n",
    "ax.legend(loc='upper left', ncols=4)\n",
    "ax.set_ylim(0, 110)\n",
    "\n",
    "plt.show()"
   ]
  },
  {
   "cell_type": "markdown",
   "id": "17516d0e",
   "metadata": {},
   "source": [
    "### Even after grouping by pitch type, spin rate does not reliably tell us if a pitch will result in a hit or not."
   ]
  },
  {
   "cell_type": "code",
   "execution_count": 234,
   "id": "c2c6f42b",
   "metadata": {
    "scrolled": true
   },
   "outputs": [
    {
     "name": "stderr",
     "output_type": "stream",
     "text": [
      "/var/folders/21/3pfj48b93_dfj5qvpfdk7v0h0000gn/T/ipykernel_78359/1748500470.py:1: FutureWarning: The default value of numeric_only in DataFrameGroupBy.mean is deprecated. In a future version, numeric_only will default to False. Either specify numeric_only or select only columns which should be valid for the function.\n",
      "  plot3 = soto_stats.groupby(['pitch_type', 'result']).mean()[['release_speed', 'release_spin_rate']].reset_index()\n"
     ]
    }
   ],
   "source": [
    "plot3 = soto_stats.groupby(['pitch_type', 'result']).mean()[['release_speed', 'release_spin_rate']].reset_index()\n",
    "\n",
    "smallest_subset = list(set(plot3[plot3['result'] == 'ball']['pitch_type']) & set(plot3[plot3['result'] == 'hit']['pitch_type'])\\\n",
    "& set(plot3[plot3['result'] == 'strike']['pitch_type']) & set(plot3[plot3['result'] == 'unsuccessful_hit']['pitch_type']))\n",
    "\n",
    "plot3 = plot3[plot3['pitch_type'].isin(smallest_subset)] #some pitches do not have a single hit on record so i'm removing those"
   ]
  },
  {
   "cell_type": "code",
   "execution_count": 266,
   "id": "4e815bb6",
   "metadata": {},
   "outputs": [
    {
     "data": {
      "image/png": "[encoded data removed]",
      "text/plain": [
       "<Figure size 640x480 with 1 Axes>"
      ]
     },
     "metadata": {},
     "output_type": "display_data"
    }
   ],
   "source": [
    "pitch_types = plot3['pitch_type'].unique()\n",
    "pitch_speeds = {\n",
    "    'hit': list(plot3[plot3['result'] == 'hit']['release_spin_rate']),\n",
    "    'ball': list(plot3[plot3['result'] == 'ball']['release_spin_rate']),\n",
    "    'unsuccessful_hit': list(plot3[plot3['result'] == 'unsuccessful_hit']['release_spin_rate']),\n",
    "    'strike': list(plot3[plot3['result'] == 'strike']['release_spin_rate']),\n",
    "}\n",
    "\n",
    "x = np.arange(len(pitch_types))  # the label locations\n",
    "width = 0.15  # the width of the bars\n",
    "multiplier = 0\n",
    "\n",
    "fig, ax = plt.subplots(layout='constrained')\n",
    "\n",
    "for attribute, measurement in pitch_speeds.items():\n",
    "    offset = width * multiplier\n",
    "    rects = ax.bar(x + offset, measurement, width, label=attribute)\n",
    "    multiplier += 1\n",
    "\n",
    "ax.set_xlabel('Pitch Type')\n",
    "ax.set_ylabel('Pitch Spin Rate')\n",
    "ax.set_title('Spin Rate is not a good predictor of hit likelihood even when grouped by pitch type')\n",
    "ax.set_xticks(x + width, pitch_types)\n",
    "ax.legend(loc='upper left', ncols=4)\n",
    "ax.set_ylim(0, 3100)\n",
    "\n",
    "plt.show()"
   ]
  },
  {
   "cell_type": "markdown",
   "id": "130d7529",
   "metadata": {},
   "source": [
    "### 5.20% of pitches from left hand pitchers are hits."
   ]
  },
  {
   "cell_type": "code",
   "execution_count": 254,
   "id": "fba54e87",
   "metadata": {
    "scrolled": true
   },
   "outputs": [
    {
     "data": {
      "text/plain": [
       "101"
      ]
     },
     "execution_count": 254,
     "metadata": {},
     "output_type": "execute_result"
    }
   ],
   "source": [
    "len(soto_stats[(soto_stats['result'] == 'hit') & (soto_stats['p_throws'] == 'L')])"
   ]
  },
  {
   "cell_type": "code",
   "execution_count": 255,
   "id": "bae95e2e",
   "metadata": {},
   "outputs": [
    {
     "data": {
      "text/plain": [
       "1944"
      ]
     },
     "execution_count": 255,
     "metadata": {},
     "output_type": "execute_result"
    }
   ],
   "source": [
    "  len(soto_stats[soto_stats['p_throws'] == 'L'])"
   ]
  },
  {
   "cell_type": "code",
   "execution_count": 257,
   "id": "3d0fc3ef",
   "metadata": {
    "scrolled": true
   },
   "outputs": [
    {
     "data": {
      "text/plain": [
       "0.051954732510288065"
      ]
     },
     "execution_count": 257,
     "metadata": {},
     "output_type": "execute_result"
    }
   ],
   "source": [
    "101/1944"
   ]
  },
  {
   "cell_type": "markdown",
   "id": "4ea5bb80",
   "metadata": {},
   "source": [
    "### 5.32% of pitches from right hand pitchers are hits."
   ]
  },
  {
   "cell_type": "code",
   "execution_count": 259,
   "id": "090aebc5",
   "metadata": {},
   "outputs": [
    {
     "data": {
      "text/plain": [
       "230"
      ]
     },
     "execution_count": 259,
     "metadata": {},
     "output_type": "execute_result"
    }
   ],
   "source": [
    "len(soto_stats[(soto_stats['result'] == 'hit') & (soto_stats['p_throws'] == 'R')])"
   ]
  },
  {
   "cell_type": "code",
   "execution_count": 258,
   "id": "ef8db7c9",
   "metadata": {},
   "outputs": [
    {
     "data": {
      "text/plain": [
       "4322"
      ]
     },
     "execution_count": 258,
     "metadata": {},
     "output_type": "execute_result"
    }
   ],
   "source": [
    "  len(soto_stats[soto_stats['p_throws'] == 'R'])"
   ]
  },
  {
   "cell_type": "code",
   "execution_count": 261,
   "id": "41d1ca53",
   "metadata": {
    "scrolled": true
   },
   "outputs": [
    {
     "data": {
      "text/plain": [
       "0.05321610365571495"
      ]
     },
     "execution_count": 261,
     "metadata": {},
     "output_type": "execute_result"
    }
   ],
   "source": [
    "230/4322"
   ]
  },
  {
   "cell_type": "markdown",
   "id": "caba9e65",
   "metadata": {},
   "source": [
    "# Notes"
   ]
  },
  {
   "cell_type": "markdown",
   "id": "9fb8b24c",
   "metadata": {},
   "source": [
    "#### Variables to look at: 'release_speed', 'release_spin_rate', 'p_throws','pitch_type', 'pfx_x', 'pfx_z', 'plate_x', 'plate_z'"
   ]
  },
  {
   "cell_type": "markdown",
   "id": "d1d6273c",
   "metadata": {},
   "source": [
    "predict woba based on location of pitch + pitch type \n",
    "\n",
    "### pitch type, location -> woba \n",
    "juan soto - curveball - "
   ]
  },
  {
   "cell_type": "markdown",
   "id": "72b8b6b1",
   "metadata": {},
   "source": [
    "1. pitcher's strengths (location + pitch type)\n",
    "2. batter's weaknesses (location + pitch type)\n",
    "\n"
   ]
  },
  {
   "cell_type": "markdown",
   "id": "64fdca91",
   "metadata": {},
   "source": [
    "- train model on velo, rpm, location, L/R, movement/break, pitch_type for a given batter\n",
    "- take your pitcher's averages for velo, rpm, movement in the last month.\n",
    "    - if we want generate a graph for how glasnow should pitch against soto\n",
    "    - input all these pitcher averages into the model\n",
    "    - we get a graph as output\n",
    "\n",
    "generating a fastball graph for glasnow against soto:\n",
    "input: glasnow's velo, rpm, location, L/R, movement/break, \"fastball\" \n",
    "\n",
    "glasnow's velo, rpm, location+0.1(change slightly everytime), L/R, movement/break, \"fastball\"\n",
    "- change location everytime in order to sample every part of plate so we can graph\n",
    "\n"
   ]
  },
  {
   "cell_type": "markdown",
   "id": "c6aab6c3",
   "metadata": {},
   "source": [
    "foul is better than swinging strike"
   ]
  },
  {
   "cell_type": "markdown",
   "id": "e4f655ec",
   "metadata": {},
   "source": [
    "## Old Work. Could use in the future."
   ]
  },
  {
   "cell_type": "markdown",
   "id": "617ac3b4",
   "metadata": {},
   "source": [
    "#### Problem statement: Out of all swings, predict which ones will be a successful hit (i.e. single, double, triple, home run)\n",
    "- Therefore, we only care about 'hit into play', 'foul', 'swinging_strike', 'foul_tip', 'missed_bunt', 'foul_bunt', and 'swinging_strike_blocked'"
   ]
  },
  {
   "cell_type": "code",
   "execution_count": 52,
   "id": "8e21f2ef",
   "metadata": {},
   "outputs": [],
   "source": [
    "# soto_swings = soto_stats[(soto_stats['description'] == 'hit_into_play') | (soto_stats['description'] == 'foul') | \\\n",
    "# (soto_stats['description'] == 'swinging_strike') | (soto_stats['description'] == 'foul_tip') | \\\n",
    "# (soto_stats['description'] == 'missed_bunt') | (soto_stats['description'] == 'foul_bunt') | \\\n",
    "# (soto_stats['description'] == 'swinging_strike_blocked')]\n",
    "\n",
    "# soto_swings"
   ]
  },
  {
   "cell_type": "markdown",
   "id": "497a55cf",
   "metadata": {},
   "source": [
    "#### Events we care about: 'single', 'double', 'triple', 'home_run', 'fielders_choice'"
   ]
  },
  {
   "cell_type": "code",
   "execution_count": 53,
   "id": "1ddcc3cd",
   "metadata": {
    "scrolled": true
   },
   "outputs": [
    {
     "data": {
      "text/html": [
       "<div>\n",
       "<style scoped>\n",
       "    .dataframe tbody tr th:only-of-type {\n",
       "        vertical-align: middle;\n",
       "    }\n",
       "\n",
       "    .dataframe tbody tr th {\n",
       "        vertical-align: top;\n",
       "    }\n",
       "\n",
       "    .dataframe thead th {\n",
       "        text-align: right;\n",
       "    }\n",
       "</style>\n",
       "<table border=\"1\" class=\"dataframe\">\n",
       "  <thead>\n",
       "    <tr style=\"text-align: right;\">\n",
       "      <th></th>\n",
       "      <th>pitch_type</th>\n",
       "      <th>game_date</th>\n",
       "      <th>release_speed</th>\n",
       "      <th>release_pos_x</th>\n",
       "      <th>release_pos_z</th>\n",
       "      <th>player_name</th>\n",
       "      <th>batter</th>\n",
       "      <th>pitcher</th>\n",
       "      <th>events</th>\n",
       "      <th>description</th>\n",
       "      <th>...</th>\n",
       "      <th>fld_score</th>\n",
       "      <th>post_away_score</th>\n",
       "      <th>post_home_score</th>\n",
       "      <th>post_bat_score</th>\n",
       "      <th>post_fld_score</th>\n",
       "      <th>if_fielding_alignment</th>\n",
       "      <th>of_fielding_alignment</th>\n",
       "      <th>spin_axis</th>\n",
       "      <th>delta_home_win_exp</th>\n",
       "      <th>delta_run_exp</th>\n",
       "    </tr>\n",
       "  </thead>\n",
       "  <tbody>\n",
       "    <tr>\n",
       "      <th>25</th>\n",
       "      <td>FC</td>\n",
       "      <td>2024-04-20</td>\n",
       "      <td>89.5</td>\n",
       "      <td>-2.22</td>\n",
       "      <td>5.79</td>\n",
       "      <td>Soto, Juan</td>\n",
       "      <td>665742</td>\n",
       "      <td>621107</td>\n",
       "      <td>double</td>\n",
       "      <td>hit_into_play</td>\n",
       "      <td>...</td>\n",
       "      <td>0</td>\n",
       "      <td>0</td>\n",
       "      <td>0</td>\n",
       "      <td>0</td>\n",
       "      <td>0</td>\n",
       "      <td>Infield shade</td>\n",
       "      <td>Standard</td>\n",
       "      <td>209.0</td>\n",
       "      <td>0.037</td>\n",
       "      <td>0.231</td>\n",
       "    </tr>\n",
       "    <tr>\n",
       "      <th>30</th>\n",
       "      <td>CU</td>\n",
       "      <td>2024-04-20</td>\n",
       "      <td>79.4</td>\n",
       "      <td>-2.24</td>\n",
       "      <td>6.09</td>\n",
       "      <td>Soto, Juan</td>\n",
       "      <td>665742</td>\n",
       "      <td>621107</td>\n",
       "      <td>single</td>\n",
       "      <td>hit_into_play</td>\n",
       "      <td>...</td>\n",
       "      <td>0</td>\n",
       "      <td>0</td>\n",
       "      <td>0</td>\n",
       "      <td>0</td>\n",
       "      <td>0</td>\n",
       "      <td>Infield shade</td>\n",
       "      <td>Standard</td>\n",
       "      <td>66.0</td>\n",
       "      <td>0.024</td>\n",
       "      <td>0.299</td>\n",
       "    </tr>\n",
       "    <tr>\n",
       "      <th>40</th>\n",
       "      <td>FF</td>\n",
       "      <td>2024-04-19</td>\n",
       "      <td>91.9</td>\n",
       "      <td>-0.07</td>\n",
       "      <td>6.51</td>\n",
       "      <td>Soto, Juan</td>\n",
       "      <td>665742</td>\n",
       "      <td>606965</td>\n",
       "      <td>home_run</td>\n",
       "      <td>hit_into_play</td>\n",
       "      <td>...</td>\n",
       "      <td>1</td>\n",
       "      <td>1</td>\n",
       "      <td>5</td>\n",
       "      <td>5</td>\n",
       "      <td>1</td>\n",
       "      <td>Infield shade</td>\n",
       "      <td>Standard</td>\n",
       "      <td>213.0</td>\n",
       "      <td>0.149</td>\n",
       "      <td>2.279</td>\n",
       "    </tr>\n",
       "    <tr>\n",
       "      <th>46</th>\n",
       "      <td>FF</td>\n",
       "      <td>2024-04-17</td>\n",
       "      <td>96.5</td>\n",
       "      <td>-2.20</td>\n",
       "      <td>5.61</td>\n",
       "      <td>Soto, Juan</td>\n",
       "      <td>665742</td>\n",
       "      <td>592332</td>\n",
       "      <td>double</td>\n",
       "      <td>hit_into_play</td>\n",
       "      <td>...</td>\n",
       "      <td>2</td>\n",
       "      <td>1</td>\n",
       "      <td>2</td>\n",
       "      <td>1</td>\n",
       "      <td>2</td>\n",
       "      <td>Standard</td>\n",
       "      <td>Standard</td>\n",
       "      <td>216.0</td>\n",
       "      <td>-0.115</td>\n",
       "      <td>1.047</td>\n",
       "    </tr>\n",
       "    <tr>\n",
       "      <th>48</th>\n",
       "      <td>SL</td>\n",
       "      <td>2024-04-17</td>\n",
       "      <td>85.2</td>\n",
       "      <td>-2.40</td>\n",
       "      <td>5.58</td>\n",
       "      <td>Soto, Juan</td>\n",
       "      <td>665742</td>\n",
       "      <td>592332</td>\n",
       "      <td>single</td>\n",
       "      <td>hit_into_play</td>\n",
       "      <td>...</td>\n",
       "      <td>2</td>\n",
       "      <td>0</td>\n",
       "      <td>2</td>\n",
       "      <td>0</td>\n",
       "      <td>2</td>\n",
       "      <td>Standard</td>\n",
       "      <td>Standard</td>\n",
       "      <td>202.0</td>\n",
       "      <td>-0.042</td>\n",
       "      <td>0.420</td>\n",
       "    </tr>\n",
       "    <tr>\n",
       "      <th>...</th>\n",
       "      <td>...</td>\n",
       "      <td>...</td>\n",
       "      <td>...</td>\n",
       "      <td>...</td>\n",
       "      <td>...</td>\n",
       "      <td>...</td>\n",
       "      <td>...</td>\n",
       "      <td>...</td>\n",
       "      <td>...</td>\n",
       "      <td>...</td>\n",
       "      <td>...</td>\n",
       "      <td>...</td>\n",
       "      <td>...</td>\n",
       "      <td>...</td>\n",
       "      <td>...</td>\n",
       "      <td>...</td>\n",
       "      <td>...</td>\n",
       "      <td>...</td>\n",
       "      <td>...</td>\n",
       "      <td>...</td>\n",
       "      <td>...</td>\n",
       "    </tr>\n",
       "    <tr>\n",
       "      <th>2997</th>\n",
       "      <td>SI</td>\n",
       "      <td>2023-04-29</td>\n",
       "      <td>94.3</td>\n",
       "      <td>-1.84</td>\n",
       "      <td>5.70</td>\n",
       "      <td>Soto, Juan</td>\n",
       "      <td>665742</td>\n",
       "      <td>596001</td>\n",
       "      <td>home_run</td>\n",
       "      <td>hit_into_play</td>\n",
       "      <td>...</td>\n",
       "      <td>8</td>\n",
       "      <td>8</td>\n",
       "      <td>6</td>\n",
       "      <td>6</td>\n",
       "      <td>8</td>\n",
       "      <td>NaN</td>\n",
       "      <td>NaN</td>\n",
       "      <td>244.0</td>\n",
       "      <td>0.091</td>\n",
       "      <td>0.933</td>\n",
       "    </tr>\n",
       "    <tr>\n",
       "      <th>3023</th>\n",
       "      <td>CU</td>\n",
       "      <td>2023-04-27</td>\n",
       "      <td>81.6</td>\n",
       "      <td>-1.40</td>\n",
       "      <td>5.97</td>\n",
       "      <td>Soto, Juan</td>\n",
       "      <td>665742</td>\n",
       "      <td>624522</td>\n",
       "      <td>single</td>\n",
       "      <td>hit_into_play</td>\n",
       "      <td>...</td>\n",
       "      <td>5</td>\n",
       "      <td>1</td>\n",
       "      <td>5</td>\n",
       "      <td>1</td>\n",
       "      <td>5</td>\n",
       "      <td>Infield shade</td>\n",
       "      <td>Standard</td>\n",
       "      <td>31.0</td>\n",
       "      <td>-0.022</td>\n",
       "      <td>0.453</td>\n",
       "    </tr>\n",
       "    <tr>\n",
       "      <th>3086</th>\n",
       "      <td>SI</td>\n",
       "      <td>2023-04-23</td>\n",
       "      <td>95.8</td>\n",
       "      <td>-2.03</td>\n",
       "      <td>5.51</td>\n",
       "      <td>Soto, Juan</td>\n",
       "      <td>665742</td>\n",
       "      <td>686753</td>\n",
       "      <td>single</td>\n",
       "      <td>hit_into_play</td>\n",
       "      <td>...</td>\n",
       "      <td>0</td>\n",
       "      <td>0</td>\n",
       "      <td>0</td>\n",
       "      <td>0</td>\n",
       "      <td>0</td>\n",
       "      <td>Infield shade</td>\n",
       "      <td>Standard</td>\n",
       "      <td>229.0</td>\n",
       "      <td>-0.086</td>\n",
       "      <td>0.633</td>\n",
       "    </tr>\n",
       "    <tr>\n",
       "      <th>3094</th>\n",
       "      <td>CU</td>\n",
       "      <td>2023-04-22</td>\n",
       "      <td>82.3</td>\n",
       "      <td>-1.63</td>\n",
       "      <td>5.64</td>\n",
       "      <td>Soto, Juan</td>\n",
       "      <td>665742</td>\n",
       "      <td>518876</td>\n",
       "      <td>single</td>\n",
       "      <td>hit_into_play</td>\n",
       "      <td>...</td>\n",
       "      <td>3</td>\n",
       "      <td>2</td>\n",
       "      <td>3</td>\n",
       "      <td>2</td>\n",
       "      <td>3</td>\n",
       "      <td>Infield shade</td>\n",
       "      <td>Standard</td>\n",
       "      <td>58.0</td>\n",
       "      <td>-0.087</td>\n",
       "      <td>0.733</td>\n",
       "    </tr>\n",
       "    <tr>\n",
       "      <th>3102</th>\n",
       "      <td>FS</td>\n",
       "      <td>2023-04-22</td>\n",
       "      <td>86.2</td>\n",
       "      <td>-1.70</td>\n",
       "      <td>5.98</td>\n",
       "      <td>Soto, Juan</td>\n",
       "      <td>665742</td>\n",
       "      <td>543518</td>\n",
       "      <td>single</td>\n",
       "      <td>hit_into_play</td>\n",
       "      <td>...</td>\n",
       "      <td>3</td>\n",
       "      <td>4</td>\n",
       "      <td>3</td>\n",
       "      <td>4</td>\n",
       "      <td>3</td>\n",
       "      <td>Infield shade</td>\n",
       "      <td>Standard</td>\n",
       "      <td>217.0</td>\n",
       "      <td>-0.033</td>\n",
       "      <td>0.398</td>\n",
       "    </tr>\n",
       "  </tbody>\n",
       "</table>\n",
       "<p>186 rows × 92 columns</p>\n",
       "</div>"
      ],
      "text/plain": [
       "     pitch_type   game_date  release_speed  release_pos_x  release_pos_z  \\\n",
       "25           FC  2024-04-20           89.5          -2.22           5.79   \n",
       "30           CU  2024-04-20           79.4          -2.24           6.09   \n",
       "40           FF  2024-04-19           91.9          -0.07           6.51   \n",
       "46           FF  2024-04-17           96.5          -2.20           5.61   \n",
       "48           SL  2024-04-17           85.2          -2.40           5.58   \n",
       "...         ...         ...            ...            ...            ...   \n",
       "2997         SI  2023-04-29           94.3          -1.84           5.70   \n",
       "3023         CU  2023-04-27           81.6          -1.40           5.97   \n",
       "3086         SI  2023-04-23           95.8          -2.03           5.51   \n",
       "3094         CU  2023-04-22           82.3          -1.63           5.64   \n",
       "3102         FS  2023-04-22           86.2          -1.70           5.98   \n",
       "\n",
       "     player_name  batter  pitcher    events    description  ...  fld_score  \\\n",
       "25    Soto, Juan  665742   621107    double  hit_into_play  ...          0   \n",
       "30    Soto, Juan  665742   621107    single  hit_into_play  ...          0   \n",
       "40    Soto, Juan  665742   606965  home_run  hit_into_play  ...          1   \n",
       "46    Soto, Juan  665742   592332    double  hit_into_play  ...          2   \n",
       "48    Soto, Juan  665742   592332    single  hit_into_play  ...          2   \n",
       "...          ...     ...      ...       ...            ...  ...        ...   \n",
       "2997  Soto, Juan  665742   596001  home_run  hit_into_play  ...          8   \n",
       "3023  Soto, Juan  665742   624522    single  hit_into_play  ...          5   \n",
       "3086  Soto, Juan  665742   686753    single  hit_into_play  ...          0   \n",
       "3094  Soto, Juan  665742   518876    single  hit_into_play  ...          3   \n",
       "3102  Soto, Juan  665742   543518    single  hit_into_play  ...          3   \n",
       "\n",
       "      post_away_score  post_home_score  post_bat_score  post_fld_score  \\\n",
       "25                  0                0               0               0   \n",
       "30                  0                0               0               0   \n",
       "40                  1                5               5               1   \n",
       "46                  1                2               1               2   \n",
       "48                  0                2               0               2   \n",
       "...               ...              ...             ...             ...   \n",
       "2997                8                6               6               8   \n",
       "3023                1                5               1               5   \n",
       "3086                0                0               0               0   \n",
       "3094                2                3               2               3   \n",
       "3102                4                3               4               3   \n",
       "\n",
       "     if_fielding_alignment of_fielding_alignment spin_axis delta_home_win_exp  \\\n",
       "25           Infield shade              Standard     209.0              0.037   \n",
       "30           Infield shade              Standard      66.0              0.024   \n",
       "40           Infield shade              Standard     213.0              0.149   \n",
       "46                Standard              Standard     216.0             -0.115   \n",
       "48                Standard              Standard     202.0             -0.042   \n",
       "...                    ...                   ...       ...                ...   \n",
       "2997                   NaN                   NaN     244.0              0.091   \n",
       "3023         Infield shade              Standard      31.0             -0.022   \n",
       "3086         Infield shade              Standard     229.0             -0.086   \n",
       "3094         Infield shade              Standard      58.0             -0.087   \n",
       "3102         Infield shade              Standard     217.0             -0.033   \n",
       "\n",
       "     delta_run_exp  \n",
       "25           0.231  \n",
       "30           0.299  \n",
       "40           2.279  \n",
       "46           1.047  \n",
       "48           0.420  \n",
       "...            ...  \n",
       "2997         0.933  \n",
       "3023         0.453  \n",
       "3086         0.633  \n",
       "3094         0.733  \n",
       "3102         0.398  \n",
       "\n",
       "[186 rows x 92 columns]"
      ]
     },
     "execution_count": 53,
     "metadata": {},
     "output_type": "execute_result"
    }
   ],
   "source": [
    "#How many of the 1139 swings resulted in a successful swing(single, double, triple, HR)\n",
    "soto_hits = soto_swings[(soto_swings['events'] == 'single') | (soto_swings['events'] == 'double') | \\\n",
    "(soto_swings['events'] == 'triple') | (soto_swings['events'] == 'home_run') | \\\n",
    "(soto_swings['events'] == 'fielders_choice')]\n",
    "\n",
    "soto_hits"
   ]
  },
  {
   "cell_type": "code",
   "execution_count": 54,
   "id": "9d7cfbc2",
   "metadata": {},
   "outputs": [
    {
     "data": {
      "text/plain": [
       "16.330114135206323"
      ]
     },
     "execution_count": 54,
     "metadata": {},
     "output_type": "execute_result"
    }
   ],
   "source": [
    "186/1139 * 100"
   ]
  },
  {
   "cell_type": "markdown",
   "id": "e3746b19",
   "metadata": {},
   "source": [
    "#### 186 of 1139 swings were successful. 16.33% of Juan Soto's swings were successful in the past year."
   ]
  }
 ],
 "metadata": {
  "kernelspec": {
   "display_name": "general",
   "language": "python",
   "name": "general"
  },
  "language_info": {
   "codemirror_mode": {
    "name": "ipython",
    "version": 3
   },
   "file_extension": ".py",
   "mimetype": "text/x-python",
   "name": "python",
   "nbconvert_exporter": "python",
   "pygments_lexer": "ipython3",
   "version": "3.10.10"
  }
 },
 "nbformat": 4,
 "nbformat_minor": 5
}
