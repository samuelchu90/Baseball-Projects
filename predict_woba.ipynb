{
 "cells": [
  {
   "cell_type": "markdown",
   "id": "e7e09c18",
   "metadata": {},
   "source": [
    "### plate_x, plate_z, pitch_type -> 'woba_value'"
   ]
  },
  {
   "cell_type": "code",
   "execution_count": 1,
   "id": "d2b571f5",
   "metadata": {},
   "outputs": [],
   "source": [
    "import pandas as pd\n",
    "import numpy as np\n",
    "from sklearn.model_selection import train_test_split\n",
    "import matplotlib.pyplot as plt\n",
    "from pybaseball import statcast #https://github.com/jldbc/pybaseball"
   ]
  },
  {
   "cell_type": "markdown",
   "id": "6c3597a5",
   "metadata": {},
   "source": [
    "### Questions:\n",
    "1. How does mlb get the colored batter box?\n",
    "\n",
    "### Inspiration:\n",
    "1. https://github.com/jwilsonds/swing_probability_model/blob/master/votto%20swing%20probability.ipynb \n",
    "\n",
    "\n",
    "\n",
    "https://www.kaggle.com/code/nickwan/attack-zones-visualizing-the-strike-zone"
   ]
  },
  {
   "cell_type": "markdown",
   "id": "db103ee5",
   "metadata": {},
   "source": [
    "### Recent Changes\n",
    "1. Look at Soto's last two years\n",
    "2. Increase woba of hits by 5.5."
   ]
  },
  {
   "cell_type": "code",
   "execution_count": 2,
   "id": "159664c5",
   "metadata": {},
   "outputs": [],
   "source": [
    "#first example from pybaseball documentation\n",
    "#statcast(start_dt=\"2019-06-24\", end_dt=\"2019-06-25\").columns"
   ]
  },
  {
   "cell_type": "code",
   "execution_count": 3,
   "id": "4e1936b3",
   "metadata": {},
   "outputs": [],
   "source": [
    "from pybaseball import  playerid_lookup\n",
    "from pybaseball import  statcast_pitcher\n",
    "from pybaseball import  statcast_batter"
   ]
  },
  {
   "cell_type": "code",
   "execution_count": 4,
   "id": "96d8e55a",
   "metadata": {},
   "outputs": [
    {
     "name": "stdout",
     "output_type": "stream",
     "text": [
      "Gathering player lookup table. This may take a moment.\n"
     ]
    },
    {
     "data": {
      "text/html": [
       "<div>\n",
       "<style scoped>\n",
       "    .dataframe tbody tr th:only-of-type {\n",
       "        vertical-align: middle;\n",
       "    }\n",
       "\n",
       "    .dataframe tbody tr th {\n",
       "        vertical-align: top;\n",
       "    }\n",
       "\n",
       "    .dataframe thead th {\n",
       "        text-align: right;\n",
       "    }\n",
       "</style>\n",
       "<table border=\"1\" class=\"dataframe\">\n",
       "  <thead>\n",
       "    <tr style=\"text-align: right;\">\n",
       "      <th></th>\n",
       "      <th>name_last</th>\n",
       "      <th>name_first</th>\n",
       "      <th>key_mlbam</th>\n",
       "      <th>key_retro</th>\n",
       "      <th>key_bbref</th>\n",
       "      <th>key_fangraphs</th>\n",
       "      <th>mlb_played_first</th>\n",
       "      <th>mlb_played_last</th>\n",
       "    </tr>\n",
       "  </thead>\n",
       "  <tbody>\n",
       "    <tr>\n",
       "      <th>0</th>\n",
       "      <td>soto</td>\n",
       "      <td>juan</td>\n",
       "      <td>665742</td>\n",
       "      <td>sotoj001</td>\n",
       "      <td>sotoju01</td>\n",
       "      <td>20123</td>\n",
       "      <td>2018.0</td>\n",
       "      <td>2024.0</td>\n",
       "    </tr>\n",
       "  </tbody>\n",
       "</table>\n",
       "</div>"
      ],
      "text/plain": [
       "  name_last name_first  key_mlbam key_retro key_bbref  key_fangraphs  \\\n",
       "0      soto       juan     665742  sotoj001  sotoju01          20123   \n",
       "\n",
       "   mlb_played_first  mlb_played_last  \n",
       "0            2018.0           2024.0  "
      ]
     },
     "execution_count": 4,
     "metadata": {},
     "output_type": "execute_result"
    }
   ],
   "source": [
    "#lookup for a player using their name. useful to find their id\n",
    "#id = key_mlbam\n",
    "playerid_lookup('soto', 'juan')"
   ]
  },
  {
   "cell_type": "code",
   "execution_count": 5,
   "id": "8a7c746e",
   "metadata": {},
   "outputs": [
    {
     "name": "stdout",
     "output_type": "stream",
     "text": [
      "Gathering Player Data\n"
     ]
    },
    {
     "data": {
      "text/html": [
       "<div>\n",
       "<style scoped>\n",
       "    .dataframe tbody tr th:only-of-type {\n",
       "        vertical-align: middle;\n",
       "    }\n",
       "\n",
       "    .dataframe tbody tr th {\n",
       "        vertical-align: top;\n",
       "    }\n",
       "\n",
       "    .dataframe thead th {\n",
       "        text-align: right;\n",
       "    }\n",
       "</style>\n",
       "<table border=\"1\" class=\"dataframe\">\n",
       "  <thead>\n",
       "    <tr style=\"text-align: right;\">\n",
       "      <th></th>\n",
       "      <th>pitch_type</th>\n",
       "      <th>game_date</th>\n",
       "      <th>release_speed</th>\n",
       "      <th>release_pos_x</th>\n",
       "      <th>release_pos_z</th>\n",
       "      <th>player_name</th>\n",
       "      <th>batter</th>\n",
       "      <th>pitcher</th>\n",
       "      <th>events</th>\n",
       "      <th>description</th>\n",
       "      <th>...</th>\n",
       "      <th>fld_score</th>\n",
       "      <th>post_away_score</th>\n",
       "      <th>post_home_score</th>\n",
       "      <th>post_bat_score</th>\n",
       "      <th>post_fld_score</th>\n",
       "      <th>if_fielding_alignment</th>\n",
       "      <th>of_fielding_alignment</th>\n",
       "      <th>spin_axis</th>\n",
       "      <th>delta_home_win_exp</th>\n",
       "      <th>delta_run_exp</th>\n",
       "    </tr>\n",
       "  </thead>\n",
       "  <tbody>\n",
       "    <tr>\n",
       "      <th>0</th>\n",
       "      <td>CU</td>\n",
       "      <td>2024-04-21</td>\n",
       "      <td>76.7</td>\n",
       "      <td>-0.78</td>\n",
       "      <td>6.51</td>\n",
       "      <td>Soto, Juan</td>\n",
       "      <td>665742</td>\n",
       "      <td>650644</td>\n",
       "      <td>field_out</td>\n",
       "      <td>hit_into_play</td>\n",
       "      <td>...</td>\n",
       "      <td>1</td>\n",
       "      <td>1</td>\n",
       "      <td>1</td>\n",
       "      <td>1</td>\n",
       "      <td>1</td>\n",
       "      <td>Infield shade</td>\n",
       "      <td>Standard</td>\n",
       "      <td>43.0</td>\n",
       "      <td>-0.029</td>\n",
       "      <td>-0.397</td>\n",
       "    </tr>\n",
       "    <tr>\n",
       "      <th>1</th>\n",
       "      <td>SI</td>\n",
       "      <td>2024-04-21</td>\n",
       "      <td>91.1</td>\n",
       "      <td>-1.13</td>\n",
       "      <td>6.24</td>\n",
       "      <td>Soto, Juan</td>\n",
       "      <td>665742</td>\n",
       "      <td>650644</td>\n",
       "      <td>NaN</td>\n",
       "      <td>ball</td>\n",
       "      <td>...</td>\n",
       "      <td>1</td>\n",
       "      <td>1</td>\n",
       "      <td>1</td>\n",
       "      <td>1</td>\n",
       "      <td>1</td>\n",
       "      <td>Infield shade</td>\n",
       "      <td>Standard</td>\n",
       "      <td>209.0</td>\n",
       "      <td>0.000</td>\n",
       "      <td>0.123</td>\n",
       "    </tr>\n",
       "    <tr>\n",
       "      <th>2</th>\n",
       "      <td>SI</td>\n",
       "      <td>2024-04-21</td>\n",
       "      <td>92.2</td>\n",
       "      <td>-1.14</td>\n",
       "      <td>6.23</td>\n",
       "      <td>Soto, Juan</td>\n",
       "      <td>665742</td>\n",
       "      <td>650644</td>\n",
       "      <td>NaN</td>\n",
       "      <td>called_strike</td>\n",
       "      <td>...</td>\n",
       "      <td>1</td>\n",
       "      <td>1</td>\n",
       "      <td>1</td>\n",
       "      <td>1</td>\n",
       "      <td>1</td>\n",
       "      <td>Infield shade</td>\n",
       "      <td>Standard</td>\n",
       "      <td>210.0</td>\n",
       "      <td>0.000</td>\n",
       "      <td>-0.064</td>\n",
       "    </tr>\n",
       "    <tr>\n",
       "      <th>3</th>\n",
       "      <td>FF</td>\n",
       "      <td>2024-04-21</td>\n",
       "      <td>91.2</td>\n",
       "      <td>-0.93</td>\n",
       "      <td>6.45</td>\n",
       "      <td>Soto, Juan</td>\n",
       "      <td>665742</td>\n",
       "      <td>650644</td>\n",
       "      <td>NaN</td>\n",
       "      <td>ball</td>\n",
       "      <td>...</td>\n",
       "      <td>1</td>\n",
       "      <td>1</td>\n",
       "      <td>1</td>\n",
       "      <td>1</td>\n",
       "      <td>1</td>\n",
       "      <td>Infield shade</td>\n",
       "      <td>Standard</td>\n",
       "      <td>206.0</td>\n",
       "      <td>0.000</td>\n",
       "      <td>0.072</td>\n",
       "    </tr>\n",
       "    <tr>\n",
       "      <th>4</th>\n",
       "      <td>FS</td>\n",
       "      <td>2024-04-21</td>\n",
       "      <td>84.7</td>\n",
       "      <td>-1.18</td>\n",
       "      <td>6.23</td>\n",
       "      <td>Soto, Juan</td>\n",
       "      <td>665742</td>\n",
       "      <td>650644</td>\n",
       "      <td>NaN</td>\n",
       "      <td>ball</td>\n",
       "      <td>...</td>\n",
       "      <td>1</td>\n",
       "      <td>1</td>\n",
       "      <td>1</td>\n",
       "      <td>1</td>\n",
       "      <td>1</td>\n",
       "      <td>Infield shade</td>\n",
       "      <td>Standard</td>\n",
       "      <td>232.0</td>\n",
       "      <td>0.000</td>\n",
       "      <td>0.038</td>\n",
       "    </tr>\n",
       "    <tr>\n",
       "      <th>...</th>\n",
       "      <td>...</td>\n",
       "      <td>...</td>\n",
       "      <td>...</td>\n",
       "      <td>...</td>\n",
       "      <td>...</td>\n",
       "      <td>...</td>\n",
       "      <td>...</td>\n",
       "      <td>...</td>\n",
       "      <td>...</td>\n",
       "      <td>...</td>\n",
       "      <td>...</td>\n",
       "      <td>...</td>\n",
       "      <td>...</td>\n",
       "      <td>...</td>\n",
       "      <td>...</td>\n",
       "      <td>...</td>\n",
       "      <td>...</td>\n",
       "      <td>...</td>\n",
       "      <td>...</td>\n",
       "      <td>...</td>\n",
       "      <td>...</td>\n",
       "    </tr>\n",
       "    <tr>\n",
       "      <th>6261</th>\n",
       "      <td>SI</td>\n",
       "      <td>2022-04-21</td>\n",
       "      <td>91.2</td>\n",
       "      <td>-1.91</td>\n",
       "      <td>5.42</td>\n",
       "      <td>Soto, Juan</td>\n",
       "      <td>665742</td>\n",
       "      <td>605200</td>\n",
       "      <td>NaN</td>\n",
       "      <td>ball</td>\n",
       "      <td>...</td>\n",
       "      <td>1</td>\n",
       "      <td>1</td>\n",
       "      <td>0</td>\n",
       "      <td>0</td>\n",
       "      <td>1</td>\n",
       "      <td>Infield shift</td>\n",
       "      <td>Standard</td>\n",
       "      <td>225.0</td>\n",
       "      <td>0.000</td>\n",
       "      <td>0.023</td>\n",
       "    </tr>\n",
       "    <tr>\n",
       "      <th>6262</th>\n",
       "      <td>SI</td>\n",
       "      <td>2022-04-21</td>\n",
       "      <td>91.1</td>\n",
       "      <td>-1.89</td>\n",
       "      <td>5.47</td>\n",
       "      <td>Soto, Juan</td>\n",
       "      <td>665742</td>\n",
       "      <td>605200</td>\n",
       "      <td>NaN</td>\n",
       "      <td>foul</td>\n",
       "      <td>...</td>\n",
       "      <td>1</td>\n",
       "      <td>1</td>\n",
       "      <td>0</td>\n",
       "      <td>0</td>\n",
       "      <td>1</td>\n",
       "      <td>Infield shift</td>\n",
       "      <td>Standard</td>\n",
       "      <td>231.0</td>\n",
       "      <td>0.000</td>\n",
       "      <td>-0.036</td>\n",
       "    </tr>\n",
       "    <tr>\n",
       "      <th>6263</th>\n",
       "      <td>FC</td>\n",
       "      <td>2022-04-21</td>\n",
       "      <td>88.4</td>\n",
       "      <td>-1.94</td>\n",
       "      <td>5.49</td>\n",
       "      <td>Soto, Juan</td>\n",
       "      <td>665742</td>\n",
       "      <td>605200</td>\n",
       "      <td>NaN</td>\n",
       "      <td>ball</td>\n",
       "      <td>...</td>\n",
       "      <td>1</td>\n",
       "      <td>1</td>\n",
       "      <td>0</td>\n",
       "      <td>0</td>\n",
       "      <td>1</td>\n",
       "      <td>Infield shift</td>\n",
       "      <td>Standard</td>\n",
       "      <td>215.0</td>\n",
       "      <td>0.000</td>\n",
       "      <td>0.016</td>\n",
       "    </tr>\n",
       "    <tr>\n",
       "      <th>6264</th>\n",
       "      <td>SI</td>\n",
       "      <td>2022-04-21</td>\n",
       "      <td>90.1</td>\n",
       "      <td>-1.94</td>\n",
       "      <td>5.44</td>\n",
       "      <td>Soto, Juan</td>\n",
       "      <td>665742</td>\n",
       "      <td>605200</td>\n",
       "      <td>NaN</td>\n",
       "      <td>called_strike</td>\n",
       "      <td>...</td>\n",
       "      <td>1</td>\n",
       "      <td>1</td>\n",
       "      <td>0</td>\n",
       "      <td>0</td>\n",
       "      <td>1</td>\n",
       "      <td>Infield shift</td>\n",
       "      <td>Standard</td>\n",
       "      <td>225.0</td>\n",
       "      <td>0.000</td>\n",
       "      <td>-0.024</td>\n",
       "    </tr>\n",
       "    <tr>\n",
       "      <th>6265</th>\n",
       "      <td>SI</td>\n",
       "      <td>2022-04-21</td>\n",
       "      <td>90.2</td>\n",
       "      <td>3.35</td>\n",
       "      <td>5.43</td>\n",
       "      <td>Soto, Juan</td>\n",
       "      <td>665742</td>\n",
       "      <td>573009</td>\n",
       "      <td>field_out</td>\n",
       "      <td>hit_into_play</td>\n",
       "      <td>...</td>\n",
       "      <td>4</td>\n",
       "      <td>4</td>\n",
       "      <td>2</td>\n",
       "      <td>2</td>\n",
       "      <td>4</td>\n",
       "      <td>Infield shift</td>\n",
       "      <td>Standard</td>\n",
       "      <td>113.0</td>\n",
       "      <td>-0.035</td>\n",
       "      <td>-0.221</td>\n",
       "    </tr>\n",
       "  </tbody>\n",
       "</table>\n",
       "<p>6266 rows × 92 columns</p>\n",
       "</div>"
      ],
      "text/plain": [
       "     pitch_type   game_date  release_speed  release_pos_x  release_pos_z  \\\n",
       "0            CU  2024-04-21           76.7          -0.78           6.51   \n",
       "1            SI  2024-04-21           91.1          -1.13           6.24   \n",
       "2            SI  2024-04-21           92.2          -1.14           6.23   \n",
       "3            FF  2024-04-21           91.2          -0.93           6.45   \n",
       "4            FS  2024-04-21           84.7          -1.18           6.23   \n",
       "...         ...         ...            ...            ...            ...   \n",
       "6261         SI  2022-04-21           91.2          -1.91           5.42   \n",
       "6262         SI  2022-04-21           91.1          -1.89           5.47   \n",
       "6263         FC  2022-04-21           88.4          -1.94           5.49   \n",
       "6264         SI  2022-04-21           90.1          -1.94           5.44   \n",
       "6265         SI  2022-04-21           90.2           3.35           5.43   \n",
       "\n",
       "     player_name  batter  pitcher     events    description  ...  fld_score  \\\n",
       "0     Soto, Juan  665742   650644  field_out  hit_into_play  ...          1   \n",
       "1     Soto, Juan  665742   650644        NaN           ball  ...          1   \n",
       "2     Soto, Juan  665742   650644        NaN  called_strike  ...          1   \n",
       "3     Soto, Juan  665742   650644        NaN           ball  ...          1   \n",
       "4     Soto, Juan  665742   650644        NaN           ball  ...          1   \n",
       "...          ...     ...      ...        ...            ...  ...        ...   \n",
       "6261  Soto, Juan  665742   605200        NaN           ball  ...          1   \n",
       "6262  Soto, Juan  665742   605200        NaN           foul  ...          1   \n",
       "6263  Soto, Juan  665742   605200        NaN           ball  ...          1   \n",
       "6264  Soto, Juan  665742   605200        NaN  called_strike  ...          1   \n",
       "6265  Soto, Juan  665742   573009  field_out  hit_into_play  ...          4   \n",
       "\n",
       "      post_away_score  post_home_score  post_bat_score  post_fld_score  \\\n",
       "0                   1                1               1               1   \n",
       "1                   1                1               1               1   \n",
       "2                   1                1               1               1   \n",
       "3                   1                1               1               1   \n",
       "4                   1                1               1               1   \n",
       "...               ...              ...             ...             ...   \n",
       "6261                1                0               0               1   \n",
       "6262                1                0               0               1   \n",
       "6263                1                0               0               1   \n",
       "6264                1                0               0               1   \n",
       "6265                4                2               2               4   \n",
       "\n",
       "     if_fielding_alignment of_fielding_alignment spin_axis delta_home_win_exp  \\\n",
       "0            Infield shade              Standard      43.0             -0.029   \n",
       "1            Infield shade              Standard     209.0              0.000   \n",
       "2            Infield shade              Standard     210.0              0.000   \n",
       "3            Infield shade              Standard     206.0              0.000   \n",
       "4            Infield shade              Standard     232.0              0.000   \n",
       "...                    ...                   ...       ...                ...   \n",
       "6261         Infield shift              Standard     225.0              0.000   \n",
       "6262         Infield shift              Standard     231.0              0.000   \n",
       "6263         Infield shift              Standard     215.0              0.000   \n",
       "6264         Infield shift              Standard     225.0              0.000   \n",
       "6265         Infield shift              Standard     113.0             -0.035   \n",
       "\n",
       "     delta_run_exp  \n",
       "0           -0.397  \n",
       "1            0.123  \n",
       "2           -0.064  \n",
       "3            0.072  \n",
       "4            0.038  \n",
       "...            ...  \n",
       "6261         0.023  \n",
       "6262        -0.036  \n",
       "6263         0.016  \n",
       "6264        -0.024  \n",
       "6265        -0.221  \n",
       "\n",
       "[6266 rows x 92 columns]"
      ]
     },
     "execution_count": 5,
     "metadata": {},
     "output_type": "execute_result"
    }
   ],
   "source": [
    "#juan soto's id is 665742\n",
    "#find juan soto's stats from '2023-04-21' to '2024-04-21'\n",
    "soto_stats = statcast_batter('2022-04-21', '2024-04-21', 665742)\n",
    "soto_stats"
   ]
  },
  {
   "cell_type": "markdown",
   "id": "ac705e85",
   "metadata": {},
   "source": [
    "Useful site to understand what the columns mean: https://baseballsavant.mlb.com/csv-docs"
   ]
  },
  {
   "cell_type": "code",
   "execution_count": 6,
   "id": "a7d2570d",
   "metadata": {},
   "outputs": [
    {
     "data": {
      "text/html": [
       "<div>\n",
       "<style scoped>\n",
       "    .dataframe tbody tr th:only-of-type {\n",
       "        vertical-align: middle;\n",
       "    }\n",
       "\n",
       "    .dataframe tbody tr th {\n",
       "        vertical-align: top;\n",
       "    }\n",
       "\n",
       "    .dataframe thead th {\n",
       "        text-align: right;\n",
       "    }\n",
       "</style>\n",
       "<table border=\"1\" class=\"dataframe\">\n",
       "  <thead>\n",
       "    <tr style=\"text-align: right;\">\n",
       "      <th></th>\n",
       "      <th>pitch_type</th>\n",
       "      <th>game_date</th>\n",
       "      <th>release_speed</th>\n",
       "      <th>release_pos_x</th>\n",
       "      <th>release_pos_z</th>\n",
       "      <th>player_name</th>\n",
       "      <th>batter</th>\n",
       "      <th>pitcher</th>\n",
       "      <th>events</th>\n",
       "      <th>description</th>\n",
       "      <th>...</th>\n",
       "      <th>fld_score</th>\n",
       "      <th>post_away_score</th>\n",
       "      <th>post_home_score</th>\n",
       "      <th>post_bat_score</th>\n",
       "      <th>post_fld_score</th>\n",
       "      <th>if_fielding_alignment</th>\n",
       "      <th>of_fielding_alignment</th>\n",
       "      <th>spin_axis</th>\n",
       "      <th>delta_home_win_exp</th>\n",
       "      <th>delta_run_exp</th>\n",
       "    </tr>\n",
       "  </thead>\n",
       "  <tbody>\n",
       "    <tr>\n",
       "      <th>0</th>\n",
       "      <td>CU</td>\n",
       "      <td>2024-04-21</td>\n",
       "      <td>76.7</td>\n",
       "      <td>-0.78</td>\n",
       "      <td>6.51</td>\n",
       "      <td>Soto, Juan</td>\n",
       "      <td>665742</td>\n",
       "      <td>650644</td>\n",
       "      <td>field_out</td>\n",
       "      <td>hit_into_play</td>\n",
       "      <td>...</td>\n",
       "      <td>1</td>\n",
       "      <td>1</td>\n",
       "      <td>1</td>\n",
       "      <td>1</td>\n",
       "      <td>1</td>\n",
       "      <td>Infield shade</td>\n",
       "      <td>Standard</td>\n",
       "      <td>43.0</td>\n",
       "      <td>-0.029</td>\n",
       "      <td>-0.397</td>\n",
       "    </tr>\n",
       "    <tr>\n",
       "      <th>1</th>\n",
       "      <td>SI</td>\n",
       "      <td>2024-04-21</td>\n",
       "      <td>91.1</td>\n",
       "      <td>-1.13</td>\n",
       "      <td>6.24</td>\n",
       "      <td>Soto, Juan</td>\n",
       "      <td>665742</td>\n",
       "      <td>650644</td>\n",
       "      <td>NaN</td>\n",
       "      <td>ball</td>\n",
       "      <td>...</td>\n",
       "      <td>1</td>\n",
       "      <td>1</td>\n",
       "      <td>1</td>\n",
       "      <td>1</td>\n",
       "      <td>1</td>\n",
       "      <td>Infield shade</td>\n",
       "      <td>Standard</td>\n",
       "      <td>209.0</td>\n",
       "      <td>0.000</td>\n",
       "      <td>0.123</td>\n",
       "    </tr>\n",
       "    <tr>\n",
       "      <th>2</th>\n",
       "      <td>SI</td>\n",
       "      <td>2024-04-21</td>\n",
       "      <td>92.2</td>\n",
       "      <td>-1.14</td>\n",
       "      <td>6.23</td>\n",
       "      <td>Soto, Juan</td>\n",
       "      <td>665742</td>\n",
       "      <td>650644</td>\n",
       "      <td>NaN</td>\n",
       "      <td>called_strike</td>\n",
       "      <td>...</td>\n",
       "      <td>1</td>\n",
       "      <td>1</td>\n",
       "      <td>1</td>\n",
       "      <td>1</td>\n",
       "      <td>1</td>\n",
       "      <td>Infield shade</td>\n",
       "      <td>Standard</td>\n",
       "      <td>210.0</td>\n",
       "      <td>0.000</td>\n",
       "      <td>-0.064</td>\n",
       "    </tr>\n",
       "    <tr>\n",
       "      <th>3</th>\n",
       "      <td>FF</td>\n",
       "      <td>2024-04-21</td>\n",
       "      <td>91.2</td>\n",
       "      <td>-0.93</td>\n",
       "      <td>6.45</td>\n",
       "      <td>Soto, Juan</td>\n",
       "      <td>665742</td>\n",
       "      <td>650644</td>\n",
       "      <td>NaN</td>\n",
       "      <td>ball</td>\n",
       "      <td>...</td>\n",
       "      <td>1</td>\n",
       "      <td>1</td>\n",
       "      <td>1</td>\n",
       "      <td>1</td>\n",
       "      <td>1</td>\n",
       "      <td>Infield shade</td>\n",
       "      <td>Standard</td>\n",
       "      <td>206.0</td>\n",
       "      <td>0.000</td>\n",
       "      <td>0.072</td>\n",
       "    </tr>\n",
       "    <tr>\n",
       "      <th>4</th>\n",
       "      <td>FS</td>\n",
       "      <td>2024-04-21</td>\n",
       "      <td>84.7</td>\n",
       "      <td>-1.18</td>\n",
       "      <td>6.23</td>\n",
       "      <td>Soto, Juan</td>\n",
       "      <td>665742</td>\n",
       "      <td>650644</td>\n",
       "      <td>NaN</td>\n",
       "      <td>ball</td>\n",
       "      <td>...</td>\n",
       "      <td>1</td>\n",
       "      <td>1</td>\n",
       "      <td>1</td>\n",
       "      <td>1</td>\n",
       "      <td>1</td>\n",
       "      <td>Infield shade</td>\n",
       "      <td>Standard</td>\n",
       "      <td>232.0</td>\n",
       "      <td>0.000</td>\n",
       "      <td>0.038</td>\n",
       "    </tr>\n",
       "    <tr>\n",
       "      <th>...</th>\n",
       "      <td>...</td>\n",
       "      <td>...</td>\n",
       "      <td>...</td>\n",
       "      <td>...</td>\n",
       "      <td>...</td>\n",
       "      <td>...</td>\n",
       "      <td>...</td>\n",
       "      <td>...</td>\n",
       "      <td>...</td>\n",
       "      <td>...</td>\n",
       "      <td>...</td>\n",
       "      <td>...</td>\n",
       "      <td>...</td>\n",
       "      <td>...</td>\n",
       "      <td>...</td>\n",
       "      <td>...</td>\n",
       "      <td>...</td>\n",
       "      <td>...</td>\n",
       "      <td>...</td>\n",
       "      <td>...</td>\n",
       "      <td>...</td>\n",
       "    </tr>\n",
       "    <tr>\n",
       "      <th>6261</th>\n",
       "      <td>SI</td>\n",
       "      <td>2022-04-21</td>\n",
       "      <td>91.2</td>\n",
       "      <td>-1.91</td>\n",
       "      <td>5.42</td>\n",
       "      <td>Soto, Juan</td>\n",
       "      <td>665742</td>\n",
       "      <td>605200</td>\n",
       "      <td>NaN</td>\n",
       "      <td>ball</td>\n",
       "      <td>...</td>\n",
       "      <td>1</td>\n",
       "      <td>1</td>\n",
       "      <td>0</td>\n",
       "      <td>0</td>\n",
       "      <td>1</td>\n",
       "      <td>Infield shift</td>\n",
       "      <td>Standard</td>\n",
       "      <td>225.0</td>\n",
       "      <td>0.000</td>\n",
       "      <td>0.023</td>\n",
       "    </tr>\n",
       "    <tr>\n",
       "      <th>6262</th>\n",
       "      <td>SI</td>\n",
       "      <td>2022-04-21</td>\n",
       "      <td>91.1</td>\n",
       "      <td>-1.89</td>\n",
       "      <td>5.47</td>\n",
       "      <td>Soto, Juan</td>\n",
       "      <td>665742</td>\n",
       "      <td>605200</td>\n",
       "      <td>NaN</td>\n",
       "      <td>foul</td>\n",
       "      <td>...</td>\n",
       "      <td>1</td>\n",
       "      <td>1</td>\n",
       "      <td>0</td>\n",
       "      <td>0</td>\n",
       "      <td>1</td>\n",
       "      <td>Infield shift</td>\n",
       "      <td>Standard</td>\n",
       "      <td>231.0</td>\n",
       "      <td>0.000</td>\n",
       "      <td>-0.036</td>\n",
       "    </tr>\n",
       "    <tr>\n",
       "      <th>6263</th>\n",
       "      <td>FC</td>\n",
       "      <td>2022-04-21</td>\n",
       "      <td>88.4</td>\n",
       "      <td>-1.94</td>\n",
       "      <td>5.49</td>\n",
       "      <td>Soto, Juan</td>\n",
       "      <td>665742</td>\n",
       "      <td>605200</td>\n",
       "      <td>NaN</td>\n",
       "      <td>ball</td>\n",
       "      <td>...</td>\n",
       "      <td>1</td>\n",
       "      <td>1</td>\n",
       "      <td>0</td>\n",
       "      <td>0</td>\n",
       "      <td>1</td>\n",
       "      <td>Infield shift</td>\n",
       "      <td>Standard</td>\n",
       "      <td>215.0</td>\n",
       "      <td>0.000</td>\n",
       "      <td>0.016</td>\n",
       "    </tr>\n",
       "    <tr>\n",
       "      <th>6264</th>\n",
       "      <td>SI</td>\n",
       "      <td>2022-04-21</td>\n",
       "      <td>90.1</td>\n",
       "      <td>-1.94</td>\n",
       "      <td>5.44</td>\n",
       "      <td>Soto, Juan</td>\n",
       "      <td>665742</td>\n",
       "      <td>605200</td>\n",
       "      <td>NaN</td>\n",
       "      <td>called_strike</td>\n",
       "      <td>...</td>\n",
       "      <td>1</td>\n",
       "      <td>1</td>\n",
       "      <td>0</td>\n",
       "      <td>0</td>\n",
       "      <td>1</td>\n",
       "      <td>Infield shift</td>\n",
       "      <td>Standard</td>\n",
       "      <td>225.0</td>\n",
       "      <td>0.000</td>\n",
       "      <td>-0.024</td>\n",
       "    </tr>\n",
       "    <tr>\n",
       "      <th>6265</th>\n",
       "      <td>SI</td>\n",
       "      <td>2022-04-21</td>\n",
       "      <td>90.2</td>\n",
       "      <td>3.35</td>\n",
       "      <td>5.43</td>\n",
       "      <td>Soto, Juan</td>\n",
       "      <td>665742</td>\n",
       "      <td>573009</td>\n",
       "      <td>field_out</td>\n",
       "      <td>hit_into_play</td>\n",
       "      <td>...</td>\n",
       "      <td>4</td>\n",
       "      <td>4</td>\n",
       "      <td>2</td>\n",
       "      <td>2</td>\n",
       "      <td>4</td>\n",
       "      <td>Infield shift</td>\n",
       "      <td>Standard</td>\n",
       "      <td>113.0</td>\n",
       "      <td>-0.035</td>\n",
       "      <td>-0.221</td>\n",
       "    </tr>\n",
       "  </tbody>\n",
       "</table>\n",
       "<p>6263 rows × 92 columns</p>\n",
       "</div>"
      ],
      "text/plain": [
       "     pitch_type   game_date  release_speed  release_pos_x  release_pos_z  \\\n",
       "0            CU  2024-04-21           76.7          -0.78           6.51   \n",
       "1            SI  2024-04-21           91.1          -1.13           6.24   \n",
       "2            SI  2024-04-21           92.2          -1.14           6.23   \n",
       "3            FF  2024-04-21           91.2          -0.93           6.45   \n",
       "4            FS  2024-04-21           84.7          -1.18           6.23   \n",
       "...         ...         ...            ...            ...            ...   \n",
       "6261         SI  2022-04-21           91.2          -1.91           5.42   \n",
       "6262         SI  2022-04-21           91.1          -1.89           5.47   \n",
       "6263         FC  2022-04-21           88.4          -1.94           5.49   \n",
       "6264         SI  2022-04-21           90.1          -1.94           5.44   \n",
       "6265         SI  2022-04-21           90.2           3.35           5.43   \n",
       "\n",
       "     player_name  batter  pitcher     events    description  ...  fld_score  \\\n",
       "0     Soto, Juan  665742   650644  field_out  hit_into_play  ...          1   \n",
       "1     Soto, Juan  665742   650644        NaN           ball  ...          1   \n",
       "2     Soto, Juan  665742   650644        NaN  called_strike  ...          1   \n",
       "3     Soto, Juan  665742   650644        NaN           ball  ...          1   \n",
       "4     Soto, Juan  665742   650644        NaN           ball  ...          1   \n",
       "...          ...     ...      ...        ...            ...  ...        ...   \n",
       "6261  Soto, Juan  665742   605200        NaN           ball  ...          1   \n",
       "6262  Soto, Juan  665742   605200        NaN           foul  ...          1   \n",
       "6263  Soto, Juan  665742   605200        NaN           ball  ...          1   \n",
       "6264  Soto, Juan  665742   605200        NaN  called_strike  ...          1   \n",
       "6265  Soto, Juan  665742   573009  field_out  hit_into_play  ...          4   \n",
       "\n",
       "      post_away_score  post_home_score  post_bat_score  post_fld_score  \\\n",
       "0                   1                1               1               1   \n",
       "1                   1                1               1               1   \n",
       "2                   1                1               1               1   \n",
       "3                   1                1               1               1   \n",
       "4                   1                1               1               1   \n",
       "...               ...              ...             ...             ...   \n",
       "6261                1                0               0               1   \n",
       "6262                1                0               0               1   \n",
       "6263                1                0               0               1   \n",
       "6264                1                0               0               1   \n",
       "6265                4                2               2               4   \n",
       "\n",
       "     if_fielding_alignment of_fielding_alignment spin_axis delta_home_win_exp  \\\n",
       "0            Infield shade              Standard      43.0             -0.029   \n",
       "1            Infield shade              Standard     209.0              0.000   \n",
       "2            Infield shade              Standard     210.0              0.000   \n",
       "3            Infield shade              Standard     206.0              0.000   \n",
       "4            Infield shade              Standard     232.0              0.000   \n",
       "...                    ...                   ...       ...                ...   \n",
       "6261         Infield shift              Standard     225.0              0.000   \n",
       "6262         Infield shift              Standard     231.0              0.000   \n",
       "6263         Infield shift              Standard     215.0              0.000   \n",
       "6264         Infield shift              Standard     225.0              0.000   \n",
       "6265         Infield shift              Standard     113.0             -0.035   \n",
       "\n",
       "     delta_run_exp  \n",
       "0           -0.397  \n",
       "1            0.123  \n",
       "2           -0.064  \n",
       "3            0.072  \n",
       "4            0.038  \n",
       "...            ...  \n",
       "6261         0.023  \n",
       "6262        -0.036  \n",
       "6263         0.016  \n",
       "6264        -0.024  \n",
       "6265        -0.221  \n",
       "\n",
       "[6263 rows x 92 columns]"
      ]
     },
     "execution_count": 6,
     "metadata": {},
     "output_type": "execute_result"
    }
   ],
   "source": [
    "#remove rows where woba_denom is 0.\n",
    "#because it includes sac_bunt and caught_stealing_2b\n",
    "soto_stats = soto_stats[soto_stats['woba_denom']!=0]\n",
    "soto_stats"
   ]
  },
  {
   "cell_type": "code",
   "execution_count": 7,
   "id": "a3b4f7d4",
   "metadata": {},
   "outputs": [],
   "source": [
    "#soto_stats[soto_stats['woba_value']>0][['events', 'woba_value', 'woba_denom']].sample(10)"
   ]
  },
  {
   "cell_type": "markdown",
   "id": "402d0825",
   "metadata": {},
   "source": [
    "#### Values in use currently\n",
    "woba_value(weighted on base average):\n",
    "\n",
    "#not sure what the values should be here\n",
    "- field out/strikeout: 0.0\n",
    "- walk: 0.70\n",
    "- field error: 0.9 (prob remove)\n",
    "- single: 0.90\n",
    "- double: 1.25\n",
    "- triple: 1.60\n",
    "- home_run: 2.0\n",
    "\n",
    "\n",
    "- ball: 0.175\n",
    "- strike: 0 (is this bad? strike same value as strikeout)"
   ]
  },
  {
   "cell_type": "markdown",
   "id": "7dd13cd8",
   "metadata": {},
   "source": [
    "#### Proposed values\n",
    "- single: 0.90\n",
    "- double: 1.25\n",
    "- triple: 1.60\n",
    "- home_run: 2.0\n",
    "\n",
    "- swinging strike/take strike: 0\n",
    "- foul ball: either ignore or 0.0875\n",
    "- ball: 0.175\n",
    "- \n",
    "\n",
    "- a potential problem is missed calls on the edges of the zones.\n",
    "- eventually use xWoba instead of woba\n",
    "\n",
    "single, double, triple, HR = normal\n",
    "swinging strike/looking strike = 0\n",
    "foul = somewhere between 0 and normal."
   ]
  },
  {
   "cell_type": "code",
   "execution_count": null,
   "id": "72722765",
   "metadata": {},
   "outputs": [],
   "source": []
  },
  {
   "cell_type": "code",
   "execution_count": 8,
   "id": "6a4a1337",
   "metadata": {},
   "outputs": [],
   "source": [
    "#give woba_value to strikes and balls\n",
    "rows_to_update_S = soto_stats['type']=='S'\n",
    "soto_stats.loc[rows_to_update_S, 'woba_value'] = 0\n",
    "rows_to_update_B = soto_stats['type']=='B'\n",
    "soto_stats.loc[rows_to_update_B, 'woba_value'] = 0.175"
   ]
  },
  {
   "cell_type": "markdown",
   "id": "6d77d105",
   "metadata": {},
   "source": [
    "15% of pitches of Juan Soto's pitches are hit into play"
   ]
  },
  {
   "cell_type": "code",
   "execution_count": 9,
   "id": "b7d4ff14",
   "metadata": {},
   "outputs": [
    {
     "data": {
      "text/plain": [
       "0.15775187609771674"
      ]
     },
     "execution_count": 9,
     "metadata": {},
     "output_type": "execute_result"
    }
   ],
   "source": [
    "988/len(soto_stats)"
   ]
  },
  {
   "cell_type": "code",
   "execution_count": 10,
   "id": "da8bed10",
   "metadata": {},
   "outputs": [
    {
     "data": {
      "text/plain": [
       "5.666666666666667"
      ]
     },
     "execution_count": 10,
     "metadata": {},
     "output_type": "execute_result"
    }
   ],
   "source": [
    "85/15"
   ]
  },
  {
   "cell_type": "markdown",
   "id": "b59829c9",
   "metadata": {},
   "source": [
    "We see about 5.5x more pitches hit into play than pitches not hit into play. Let's appropriately scale the woba of single, double, triple, and HR by 5.5x."
   ]
  },
  {
   "cell_type": "code",
   "execution_count": 11,
   "id": "754a3096",
   "metadata": {},
   "outputs": [],
   "source": [
    "#multiply woba_value of hits by 5.5x\n",
    "rows_to_update_hits = (soto_stats['events'] == 'single') | \\\n",
    "(soto_stats['events'] == 'double') | \\\n",
    "(soto_stats['events'] == 'triple') | \\\n",
    "(soto_stats['events'] == 'home_run') \n",
    "\n",
    "soto_stats.loc[rows_to_update_hits, 'woba_value'] = \\\n",
    "soto_stats.loc[rows_to_update_hits, 'woba_value'] * 5.5"
   ]
  },
  {
   "cell_type": "markdown",
   "id": "0c511759",
   "metadata": {},
   "source": [
    "### Soto Strike's Zone? \n",
    "#### trying to find it. don't use this. instead use 'sz_top' and 'sz_bot' from jeremiah's medium post"
   ]
  },
  {
   "cell_type": "code",
   "execution_count": 12,
   "id": "815378dd",
   "metadata": {},
   "outputs": [],
   "source": [
    "soto_strikes = soto_stats[soto_stats['type']=='S']"
   ]
  },
  {
   "cell_type": "code",
   "execution_count": 13,
   "id": "0248d3d3",
   "metadata": {},
   "outputs": [
    {
     "data": {
      "text/plain": [
       "<matplotlib.collections.PathCollection at 0x16dd09990>"
      ]
     },
     "execution_count": 13,
     "metadata": {},
     "output_type": "execute_result"
    },
    {
     "data": {
      "image/png": "[encoded data removed]",
      "text/plain": [
       "<Figure size 640x480 with 1 Axes>"
      ]
     },
     "metadata": {},
     "output_type": "display_data"
    }
   ],
   "source": [
    "color_map = {'X': 'pink', 'B': 'blue', 'S': 'red'}\n",
    "plt.scatter(x = soto_strikes['plate_x'], y = soto_strikes['plate_z'], c=soto_strikes['type'].map(color_map), label=color_map)\n"
   ]
  },
  {
   "cell_type": "markdown",
   "id": "f7fb8224",
   "metadata": {},
   "source": [
    "### Prepare data for model\n",
    "i followed this xgboost tutorial: https://www.datacamp.com/tutorial/xgboost-in-python"
   ]
  },
  {
   "cell_type": "code",
   "execution_count": 14,
   "id": "ea6cc289",
   "metadata": {},
   "outputs": [
    {
     "name": "stderr",
     "output_type": "stream",
     "text": [
      "/var/folders/21/3pfj48b93_dfj5qvpfdk7v0h0000gn/T/ipykernel_78334/2904222147.py:3: SettingWithCopyWarning: \n",
      "A value is trying to be set on a copy of a slice from a DataFrame.\n",
      "Try using .loc[row_indexer,col_indexer] = value instead\n",
      "\n",
      "See the caveats in the documentation: https://pandas.pydata.org/pandas-docs/stable/user_guide/indexing.html#returning-a-view-versus-a-copy\n",
      "  X['pitch_type'] = X['pitch_type'].astype('category')\n"
     ]
    },
    {
     "data": {
      "text/html": [
       "<div>\n",
       "<style scoped>\n",
       "    .dataframe tbody tr th:only-of-type {\n",
       "        vertical-align: middle;\n",
       "    }\n",
       "\n",
       "    .dataframe tbody tr th {\n",
       "        vertical-align: top;\n",
       "    }\n",
       "\n",
       "    .dataframe thead th {\n",
       "        text-align: right;\n",
       "    }\n",
       "</style>\n",
       "<table border=\"1\" class=\"dataframe\">\n",
       "  <thead>\n",
       "    <tr style=\"text-align: right;\">\n",
       "      <th></th>\n",
       "      <th>pitch_type</th>\n",
       "      <th>plate_x</th>\n",
       "      <th>plate_z</th>\n",
       "    </tr>\n",
       "  </thead>\n",
       "  <tbody>\n",
       "    <tr>\n",
       "      <th>0</th>\n",
       "      <td>CU</td>\n",
       "      <td>-0.17</td>\n",
       "      <td>2.25</td>\n",
       "    </tr>\n",
       "    <tr>\n",
       "      <th>1</th>\n",
       "      <td>SI</td>\n",
       "      <td>-1.88</td>\n",
       "      <td>2.23</td>\n",
       "    </tr>\n",
       "    <tr>\n",
       "      <th>2</th>\n",
       "      <td>SI</td>\n",
       "      <td>0.29</td>\n",
       "      <td>3.21</td>\n",
       "    </tr>\n",
       "    <tr>\n",
       "      <th>3</th>\n",
       "      <td>FF</td>\n",
       "      <td>0.66</td>\n",
       "      <td>3.95</td>\n",
       "    </tr>\n",
       "    <tr>\n",
       "      <th>4</th>\n",
       "      <td>FS</td>\n",
       "      <td>-0.59</td>\n",
       "      <td>1.35</td>\n",
       "    </tr>\n",
       "    <tr>\n",
       "      <th>...</th>\n",
       "      <td>...</td>\n",
       "      <td>...</td>\n",
       "      <td>...</td>\n",
       "    </tr>\n",
       "    <tr>\n",
       "      <th>6261</th>\n",
       "      <td>SI</td>\n",
       "      <td>1.18</td>\n",
       "      <td>2.00</td>\n",
       "    </tr>\n",
       "    <tr>\n",
       "      <th>6262</th>\n",
       "      <td>SI</td>\n",
       "      <td>-0.68</td>\n",
       "      <td>1.63</td>\n",
       "    </tr>\n",
       "    <tr>\n",
       "      <th>6263</th>\n",
       "      <td>FC</td>\n",
       "      <td>-0.13</td>\n",
       "      <td>4.24</td>\n",
       "    </tr>\n",
       "    <tr>\n",
       "      <th>6264</th>\n",
       "      <td>SI</td>\n",
       "      <td>-0.57</td>\n",
       "      <td>1.73</td>\n",
       "    </tr>\n",
       "    <tr>\n",
       "      <th>6265</th>\n",
       "      <td>SI</td>\n",
       "      <td>0.94</td>\n",
       "      <td>2.75</td>\n",
       "    </tr>\n",
       "  </tbody>\n",
       "</table>\n",
       "<p>6263 rows × 3 columns</p>\n",
       "</div>"
      ],
      "text/plain": [
       "     pitch_type  plate_x  plate_z\n",
       "0            CU    -0.17     2.25\n",
       "1            SI    -1.88     2.23\n",
       "2            SI     0.29     3.21\n",
       "3            FF     0.66     3.95\n",
       "4            FS    -0.59     1.35\n",
       "...         ...      ...      ...\n",
       "6261         SI     1.18     2.00\n",
       "6262         SI    -0.68     1.63\n",
       "6263         FC    -0.13     4.24\n",
       "6264         SI    -0.57     1.73\n",
       "6265         SI     0.94     2.75\n",
       "\n",
       "[6263 rows x 3 columns]"
      ]
     },
     "execution_count": 14,
     "metadata": {},
     "output_type": "execute_result"
    }
   ],
   "source": [
    "X = soto_stats[['pitch_type', 'plate_x', 'plate_z']]\n",
    "#allows xgboost to take care of categorical variables.\n",
    "X['pitch_type'] = X['pitch_type'].astype('category')\n",
    "X"
   ]
  },
  {
   "cell_type": "code",
   "execution_count": 15,
   "id": "33f700ff",
   "metadata": {},
   "outputs": [],
   "source": [
    "y = soto_stats['woba_value']"
   ]
  },
  {
   "cell_type": "code",
   "execution_count": 16,
   "id": "3f375842",
   "metadata": {},
   "outputs": [
    {
     "data": {
      "text/plain": [
       "0.43135877375059883"
      ]
     },
     "execution_count": 16,
     "metadata": {},
     "output_type": "execute_result"
    }
   ],
   "source": [
    "#because most pitches are balls and strikes so it brings the mean down\n",
    "np.mean(soto_stats['woba_value'])"
   ]
  },
  {
   "cell_type": "code",
   "execution_count": 17,
   "id": "7fa4d1d9",
   "metadata": {},
   "outputs": [],
   "source": [
    "X_train, X_test, y_train, y_test = train_test_split(X, y, random_state=40)"
   ]
  },
  {
   "cell_type": "markdown",
   "id": "4e59fdd1",
   "metadata": {},
   "source": [
    "### Create the model"
   ]
  },
  {
   "cell_type": "markdown",
   "id": "2c1217b3",
   "metadata": {},
   "source": [
    "how gbm works for regression: https://www.youtube.com/watch?v=3CC4N4z3GJc\n"
   ]
  },
  {
   "cell_type": "code",
   "execution_count": 18,
   "id": "e8296605",
   "metadata": {},
   "outputs": [],
   "source": [
    "from sklearn.metrics import mean_squared_error\n",
    "from sklearn.metrics import mean_absolute_error\n",
    "import xgboost as xgb"
   ]
  },
  {
   "cell_type": "code",
   "execution_count": 19,
   "id": "cff43069",
   "metadata": {},
   "outputs": [],
   "source": [
    "#moving data to XGBoost's dataset class to improve memory and speed\n",
    "dtrain = xgb.DMatrix(X_train, y_train, enable_categorical=True)\n",
    "dtest = xgb.DMatrix(X_test, y_test, enable_categorical=True)"
   ]
  },
  {
   "cell_type": "code",
   "execution_count": 20,
   "id": "21b105eb",
   "metadata": {},
   "outputs": [
    {
     "data": {
      "text/plain": [
       "<xgboost.core.Booster at 0x168e109d0>"
      ]
     },
     "execution_count": 20,
     "metadata": {},
     "output_type": "execute_result"
    }
   ],
   "source": [
    "params = {\"objective\": \"reg:squarederror\"}\n",
    "\n",
    "n = 100\n",
    "model = xgb.train(\n",
    "   params=params,\n",
    "   dtrain=dtrain,\n",
    "   num_boost_round=n,\n",
    ")\n",
    "model"
   ]
  },
  {
   "cell_type": "markdown",
   "id": "864427ee",
   "metadata": {},
   "source": [
    "### We don't have a good way of understanding what is a good rmse\n",
    "### We kind of understand Mean Absolute Error. 0.176 is kind of high as that is the difference between a strike and a ball. \n",
    "### going to start a new notebook that predicts if the batter will successfully hit the ball successfully."
   ]
  },
  {
   "cell_type": "code",
   "execution_count": 21,
   "id": "12029d80",
   "metadata": {},
   "outputs": [
    {
     "data": {
      "text/plain": [
       "0.7931879362915799"
      ]
     },
     "execution_count": 21,
     "metadata": {},
     "output_type": "execute_result"
    }
   ],
   "source": [
    "#train rmse\n",
    "predictions = model.predict(dtrain)\n",
    "rmse = mean_squared_error(y_train, predictions, squared=False)\n",
    "rmse"
   ]
  },
  {
   "cell_type": "code",
   "execution_count": 22,
   "id": "40bf73c1",
   "metadata": {},
   "outputs": [
    {
     "data": {
      "text/plain": [
       "0.34435526977052733"
      ]
     },
     "execution_count": 22,
     "metadata": {},
     "output_type": "execute_result"
    }
   ],
   "source": [
    "#train mae\n",
    "mae = mean_absolute_error(y_train, predictions)\n",
    "mae"
   ]
  },
  {
   "cell_type": "code",
   "execution_count": 23,
   "id": "9ccdb51a",
   "metadata": {},
   "outputs": [
    {
     "data": {
      "text/plain": [
       "1.7830805446507751"
      ]
     },
     "execution_count": 23,
     "metadata": {},
     "output_type": "execute_result"
    }
   ],
   "source": [
    "#test rmse\n",
    "predictions = model.predict(dtest)\n",
    "rmse = mean_squared_error(y_test, predictions, squared=False)\n",
    "rmse"
   ]
  },
  {
   "cell_type": "code",
   "execution_count": 24,
   "id": "9b8a8c99",
   "metadata": {},
   "outputs": [
    {
     "data": {
      "text/plain": [
       "0.7575490368553943"
      ]
     },
     "execution_count": 24,
     "metadata": {},
     "output_type": "execute_result"
    }
   ],
   "source": [
    "#test mae\n",
    "mae = mean_absolute_error(y_test, predictions)\n",
    "mae"
   ]
  },
  {
   "cell_type": "markdown",
   "id": "09843618",
   "metadata": {},
   "source": [
    "### seems like its overfitting because train set performs 3x better than test set"
   ]
  },
  {
   "cell_type": "code",
   "execution_count": 25,
   "id": "4848d41e",
   "metadata": {},
   "outputs": [],
   "source": [
    "#soto's fastball pitches in the last year\n",
    "soto_FF = X[X['pitch_type'] == \"FF\"]\n",
    "#create a dmatrix for soto's fastball. dmatrix allows us to pass data into xgboost\n",
    "soto_FF_dmatrix = xgb.DMatrix(soto_FF, enable_categorical=True)\n",
    "#predict woba for soto's fastball pitches\n",
    "soto_FF_predictions = model.predict(soto_FF_dmatrix)"
   ]
  },
  {
   "cell_type": "markdown",
   "id": "7a0a9a75",
   "metadata": {},
   "source": [
    "Our dataset consists of only 3121 pitches and 910 fastballs. Maybe it's too small."
   ]
  },
  {
   "cell_type": "code",
   "execution_count": 26,
   "id": "9da7233f",
   "metadata": {},
   "outputs": [
    {
     "data": {
      "text/plain": [
       "6263"
      ]
     },
     "execution_count": 26,
     "metadata": {},
     "output_type": "execute_result"
    }
   ],
   "source": [
    "len(X)"
   ]
  },
  {
   "cell_type": "code",
   "execution_count": 27,
   "id": "7e49f7ed",
   "metadata": {},
   "outputs": [
    {
     "data": {
      "text/plain": [
       "1821"
      ]
     },
     "execution_count": 27,
     "metadata": {},
     "output_type": "execute_result"
    }
   ],
   "source": [
    "len(soto_FF)"
   ]
  },
  {
   "cell_type": "code",
   "execution_count": 28,
   "id": "d2ca20e5",
   "metadata": {},
   "outputs": [
    {
     "data": {
      "text/plain": [
       "0.516342"
      ]
     },
     "execution_count": 28,
     "metadata": {},
     "output_type": "execute_result"
    }
   ],
   "source": [
    "np.mean(soto_FF_predictions)"
   ]
  },
  {
   "cell_type": "markdown",
   "id": "73d8f414",
   "metadata": {},
   "source": [
    "## Plotting Juan Soto's Predicted wOBA for Fastballs Based on Pitch Location"
   ]
  },
  {
   "cell_type": "code",
   "execution_count": 29,
   "id": "a4412d8c",
   "metadata": {},
   "outputs": [
    {
     "data": {
      "image/png": "[encoded data removed]",
      "text/plain": [
       "<Figure size 640x480 with 2 Axes>"
      ]
     },
     "metadata": {},
     "output_type": "display_data"
    }
   ],
   "source": [
    "plt.hexbin(x = soto_FF['plate_x'], y = soto_FF['plate_z'], C = soto_FF_predictions, gridsize = 6, cmap='Blues')\n",
    "cb = plt.colorbar(label='wOBA')"
   ]
  },
  {
   "cell_type": "markdown",
   "id": "f5f3fc7e",
   "metadata": {},
   "source": [
    "predicting if batter will hit:\n",
    "\n",
    "truth data.       prediction\n"
   ]
  },
  {
   "cell_type": "markdown",
   "id": "33fe3407",
   "metadata": {},
   "source": [
    "## Main Problem:\n",
    "#### Hits, HRs are given very little weight right now. basically forgotten about because most pitches are balls and strikes\n",
    "#### don't know the strike zone\n",
    "#### don't know the accuracy of the model\n",
    "\n",
    "#### observations from jeremiah's medium page: get rid of intentional balls, pitchouts, remove rows without pitch location data\n",
    "\n",
    "#### estimated_woba_using_speedangle might be better than woba\n",
    "\n",
    "#### seems like there's a lot of variance in the graph above when changing random state for train-test-split. probably because juan soto fastballs in the last year is a \"relatively small\" sample size\n",
    "\n",
    "#### foul balls at 2 strikes should not be counted against the batter"
   ]
  },
  {
   "cell_type": "code",
   "execution_count": 30,
   "id": "00301435",
   "metadata": {},
   "outputs": [
    {
     "data": {
      "text/plain": [
       "0       3.12\n",
       "1       3.16\n",
       "2       3.15\n",
       "3       3.11\n",
       "4       3.11\n",
       "        ... \n",
       "6261    2.80\n",
       "6262    3.12\n",
       "6263    2.97\n",
       "6264    3.00\n",
       "6265    3.12\n",
       "Name: sz_top, Length: 6263, dtype: float64"
      ]
     },
     "execution_count": 30,
     "metadata": {},
     "output_type": "execute_result"
    }
   ],
   "source": [
    "#got it from jeremiah's medium post: best way to get strikezone\n",
    "soto_stats['sz_top']"
   ]
  },
  {
   "cell_type": "code",
   "execution_count": 31,
   "id": "b851204f",
   "metadata": {
    "scrolled": true
   },
   "outputs": [
    {
     "data": {
      "text/plain": [
       "0       1.55\n",
       "1       1.60\n",
       "2       1.55\n",
       "3       1.54\n",
       "4       1.64\n",
       "        ... \n",
       "6261    1.49\n",
       "6262    1.55\n",
       "6263    1.53\n",
       "6264    1.39\n",
       "6265    1.55\n",
       "Name: sz_bot, Length: 6263, dtype: float64"
      ]
     },
     "execution_count": 31,
     "metadata": {},
     "output_type": "execute_result"
    }
   ],
   "source": [
    "soto_stats['sz_bot']"
   ]
  },
  {
   "cell_type": "code",
   "execution_count": 32,
   "id": "f286853c",
   "metadata": {},
   "outputs": [],
   "source": [
    "#ideas:\n",
    "#input plate_x and plate_z, velo, pfx_x, pfx_z\n",
    "#predict w_OBA"
   ]
  },
  {
   "cell_type": "code",
   "execution_count": 33,
   "id": "4011c829",
   "metadata": {},
   "outputs": [],
   "source": [
    "#might need a model to predict which type of pitch it is.\n",
    "#velo, pfx_x, pfx_z -> pitch_type"
   ]
  },
  {
   "cell_type": "code",
   "execution_count": null,
   "id": "cf12b87d",
   "metadata": {},
   "outputs": [],
   "source": []
  },
  {
   "cell_type": "code",
   "execution_count": null,
   "id": "5cd34a55",
   "metadata": {},
   "outputs": [],
   "source": []
  }
 ],
 "metadata": {
  "kernelspec": {
   "display_name": "general",
   "language": "python",
   "name": "general"
  },
  "language_info": {
   "codemirror_mode": {
    "name": "ipython",
    "version": 3
   },
   "file_extension": ".py",
   "mimetype": "text/x-python",
   "name": "python",
   "nbconvert_exporter": "python",
   "pygments_lexer": "ipython3",
   "version": "3.10.10"
  }
 },
 "nbformat": 4,
 "nbformat_minor": 5
}
